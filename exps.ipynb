{
 "cells": [
  {
   "cell_type": "code",
   "execution_count": 17,
   "id": "d80707a1-2f16-4bd2-8774-bcc3b6347ee2",
   "metadata": {},
   "outputs": [],
   "source": [
    "from gp import *\n",
    "import matplotlib.pyplot as plt\n",
    "plt.style.use('ggplot')"
   ]
  },
  {
   "cell_type": "code",
   "execution_count": 18,
   "id": "cb2a0dba",
   "metadata": {},
   "outputs": [
    {
     "data": {
      "text/plain": [
       "<module 'gp' from 'c:\\\\Users\\\\Yue\\\\userDoc\\\\7 code\\\\Python\\\\advml\\\\conditional-marginal-likelihood-sequence\\\\gp.py'>"
      ]
     },
     "execution_count": 18,
     "metadata": {},
     "output_type": "execute_result"
    }
   ],
   "source": [
    "import importlib\n",
    "import gp\n",
    "importlib.reload(gp)\n"
   ]
  },
  {
   "cell_type": "markdown",
   "id": "2eb4f9b2",
   "metadata": {},
   "source": [
    "# Dataset characteristics<br>\n",
    "- instant: record index<br>\n",
    "- dteday : date\n",
    "- season : season (1:springer, 2:summer, 3:fall, 4:winter)\n",
    "- yr : year (0: 2011, 1:2012)\n",
    "- mnth : month (1 to 12)\n",
    "- hr : hour (0 to 23)\n",
    "- holiday : whether day is holiday or not (extracted from http://dchr.dc.gov/page/holiday-schedule)\n",
    "- weekday : day of the week\n",
    "- workingday : if day is neither weekend nor holiday is 1, otherwise is 0.\n",
    "+ weathersit : \n",
    "    - 1: Clear, Few clouds, Partly cloudy, Partly cloudy\n",
    "    - 2: Mist + Cloudy, Mist + Broken clouds, Mist + Few clouds, Mist\n",
    "    - 3: Light Snow, Light Rain + Thunderstorm + Scattered clouds, Light Rain + Scattered clouds\n",
    "    - 4: Heavy Rain + Ice Pallets + Thunderstorm + Mist, Snow + Fog\n",
    "- temp : Normalized temperature in Celsius. The values are divided to 41 (max)\n",
    "- atemp: Normalized feeling temperature in Celsius. The values are divided to 50 (max)\n",
    "- hum: Normalized humidity. The values are divided to 100 (max)\n",
    "- windspeed: Normalized wind speed. The values are divided to 67 (max)\n",
    "- casual: count of casual users\n",
    "- registered: count of registered users\n",
    "- cnt: count of total rental bikes including both casual and registered"
   ]
  },
  {
   "cell_type": "code",
   "execution_count": 3,
   "id": "62ccf28f",
   "metadata": {},
   "outputs": [
    {
     "data": {
      "text/html": [
       "<div>\n",
       "<style scoped>\n",
       "    .dataframe tbody tr th:only-of-type {\n",
       "        vertical-align: middle;\n",
       "    }\n",
       "\n",
       "    .dataframe tbody tr th {\n",
       "        vertical-align: top;\n",
       "    }\n",
       "\n",
       "    .dataframe thead th {\n",
       "        text-align: right;\n",
       "    }\n",
       "</style>\n",
       "<table border=\"1\" class=\"dataframe\">\n",
       "  <thead>\n",
       "    <tr style=\"text-align: right;\">\n",
       "      <th></th>\n",
       "      <th>instant</th>\n",
       "      <th>dteday</th>\n",
       "      <th>season</th>\n",
       "      <th>yr</th>\n",
       "      <th>mnth</th>\n",
       "      <th>hr</th>\n",
       "      <th>holiday</th>\n",
       "      <th>weekday</th>\n",
       "      <th>workingday</th>\n",
       "      <th>weathersit</th>\n",
       "      <th>temp</th>\n",
       "      <th>atemp</th>\n",
       "      <th>hum</th>\n",
       "      <th>windspeed</th>\n",
       "      <th>casual</th>\n",
       "      <th>registered</th>\n",
       "      <th>cnt</th>\n",
       "    </tr>\n",
       "  </thead>\n",
       "  <tbody>\n",
       "    <tr>\n",
       "      <th>0</th>\n",
       "      <td>1</td>\n",
       "      <td>2011-01-01</td>\n",
       "      <td>1</td>\n",
       "      <td>0</td>\n",
       "      <td>1</td>\n",
       "      <td>0</td>\n",
       "      <td>0</td>\n",
       "      <td>6</td>\n",
       "      <td>0</td>\n",
       "      <td>1</td>\n",
       "      <td>0.24</td>\n",
       "      <td>0.2879</td>\n",
       "      <td>0.81</td>\n",
       "      <td>0.0000</td>\n",
       "      <td>3</td>\n",
       "      <td>13</td>\n",
       "      <td>16</td>\n",
       "    </tr>\n",
       "    <tr>\n",
       "      <th>1</th>\n",
       "      <td>2</td>\n",
       "      <td>2011-01-01</td>\n",
       "      <td>1</td>\n",
       "      <td>0</td>\n",
       "      <td>1</td>\n",
       "      <td>1</td>\n",
       "      <td>0</td>\n",
       "      <td>6</td>\n",
       "      <td>0</td>\n",
       "      <td>1</td>\n",
       "      <td>0.22</td>\n",
       "      <td>0.2727</td>\n",
       "      <td>0.80</td>\n",
       "      <td>0.0000</td>\n",
       "      <td>8</td>\n",
       "      <td>32</td>\n",
       "      <td>40</td>\n",
       "    </tr>\n",
       "    <tr>\n",
       "      <th>2</th>\n",
       "      <td>3</td>\n",
       "      <td>2011-01-01</td>\n",
       "      <td>1</td>\n",
       "      <td>0</td>\n",
       "      <td>1</td>\n",
       "      <td>2</td>\n",
       "      <td>0</td>\n",
       "      <td>6</td>\n",
       "      <td>0</td>\n",
       "      <td>1</td>\n",
       "      <td>0.22</td>\n",
       "      <td>0.2727</td>\n",
       "      <td>0.80</td>\n",
       "      <td>0.0000</td>\n",
       "      <td>5</td>\n",
       "      <td>27</td>\n",
       "      <td>32</td>\n",
       "    </tr>\n",
       "    <tr>\n",
       "      <th>3</th>\n",
       "      <td>4</td>\n",
       "      <td>2011-01-01</td>\n",
       "      <td>1</td>\n",
       "      <td>0</td>\n",
       "      <td>1</td>\n",
       "      <td>3</td>\n",
       "      <td>0</td>\n",
       "      <td>6</td>\n",
       "      <td>0</td>\n",
       "      <td>1</td>\n",
       "      <td>0.24</td>\n",
       "      <td>0.2879</td>\n",
       "      <td>0.75</td>\n",
       "      <td>0.0000</td>\n",
       "      <td>3</td>\n",
       "      <td>10</td>\n",
       "      <td>13</td>\n",
       "    </tr>\n",
       "    <tr>\n",
       "      <th>4</th>\n",
       "      <td>5</td>\n",
       "      <td>2011-01-01</td>\n",
       "      <td>1</td>\n",
       "      <td>0</td>\n",
       "      <td>1</td>\n",
       "      <td>4</td>\n",
       "      <td>0</td>\n",
       "      <td>6</td>\n",
       "      <td>0</td>\n",
       "      <td>1</td>\n",
       "      <td>0.24</td>\n",
       "      <td>0.2879</td>\n",
       "      <td>0.75</td>\n",
       "      <td>0.0000</td>\n",
       "      <td>0</td>\n",
       "      <td>1</td>\n",
       "      <td>1</td>\n",
       "    </tr>\n",
       "    <tr>\n",
       "      <th>...</th>\n",
       "      <td>...</td>\n",
       "      <td>...</td>\n",
       "      <td>...</td>\n",
       "      <td>...</td>\n",
       "      <td>...</td>\n",
       "      <td>...</td>\n",
       "      <td>...</td>\n",
       "      <td>...</td>\n",
       "      <td>...</td>\n",
       "      <td>...</td>\n",
       "      <td>...</td>\n",
       "      <td>...</td>\n",
       "      <td>...</td>\n",
       "      <td>...</td>\n",
       "      <td>...</td>\n",
       "      <td>...</td>\n",
       "      <td>...</td>\n",
       "    </tr>\n",
       "    <tr>\n",
       "      <th>17374</th>\n",
       "      <td>17375</td>\n",
       "      <td>2012-12-31</td>\n",
       "      <td>1</td>\n",
       "      <td>1</td>\n",
       "      <td>12</td>\n",
       "      <td>19</td>\n",
       "      <td>0</td>\n",
       "      <td>1</td>\n",
       "      <td>1</td>\n",
       "      <td>2</td>\n",
       "      <td>0.26</td>\n",
       "      <td>0.2576</td>\n",
       "      <td>0.60</td>\n",
       "      <td>0.1642</td>\n",
       "      <td>11</td>\n",
       "      <td>108</td>\n",
       "      <td>119</td>\n",
       "    </tr>\n",
       "    <tr>\n",
       "      <th>17375</th>\n",
       "      <td>17376</td>\n",
       "      <td>2012-12-31</td>\n",
       "      <td>1</td>\n",
       "      <td>1</td>\n",
       "      <td>12</td>\n",
       "      <td>20</td>\n",
       "      <td>0</td>\n",
       "      <td>1</td>\n",
       "      <td>1</td>\n",
       "      <td>2</td>\n",
       "      <td>0.26</td>\n",
       "      <td>0.2576</td>\n",
       "      <td>0.60</td>\n",
       "      <td>0.1642</td>\n",
       "      <td>8</td>\n",
       "      <td>81</td>\n",
       "      <td>89</td>\n",
       "    </tr>\n",
       "    <tr>\n",
       "      <th>17376</th>\n",
       "      <td>17377</td>\n",
       "      <td>2012-12-31</td>\n",
       "      <td>1</td>\n",
       "      <td>1</td>\n",
       "      <td>12</td>\n",
       "      <td>21</td>\n",
       "      <td>0</td>\n",
       "      <td>1</td>\n",
       "      <td>1</td>\n",
       "      <td>1</td>\n",
       "      <td>0.26</td>\n",
       "      <td>0.2576</td>\n",
       "      <td>0.60</td>\n",
       "      <td>0.1642</td>\n",
       "      <td>7</td>\n",
       "      <td>83</td>\n",
       "      <td>90</td>\n",
       "    </tr>\n",
       "    <tr>\n",
       "      <th>17377</th>\n",
       "      <td>17378</td>\n",
       "      <td>2012-12-31</td>\n",
       "      <td>1</td>\n",
       "      <td>1</td>\n",
       "      <td>12</td>\n",
       "      <td>22</td>\n",
       "      <td>0</td>\n",
       "      <td>1</td>\n",
       "      <td>1</td>\n",
       "      <td>1</td>\n",
       "      <td>0.26</td>\n",
       "      <td>0.2727</td>\n",
       "      <td>0.56</td>\n",
       "      <td>0.1343</td>\n",
       "      <td>13</td>\n",
       "      <td>48</td>\n",
       "      <td>61</td>\n",
       "    </tr>\n",
       "    <tr>\n",
       "      <th>17378</th>\n",
       "      <td>17379</td>\n",
       "      <td>2012-12-31</td>\n",
       "      <td>1</td>\n",
       "      <td>1</td>\n",
       "      <td>12</td>\n",
       "      <td>23</td>\n",
       "      <td>0</td>\n",
       "      <td>1</td>\n",
       "      <td>1</td>\n",
       "      <td>1</td>\n",
       "      <td>0.26</td>\n",
       "      <td>0.2727</td>\n",
       "      <td>0.65</td>\n",
       "      <td>0.1343</td>\n",
       "      <td>12</td>\n",
       "      <td>37</td>\n",
       "      <td>49</td>\n",
       "    </tr>\n",
       "  </tbody>\n",
       "</table>\n",
       "<p>17379 rows × 17 columns</p>\n",
       "</div>"
      ],
      "text/plain": [
       "       instant      dteday  season  yr  mnth  hr  holiday  weekday  \\\n",
       "0            1  2011-01-01       1   0     1   0        0        6   \n",
       "1            2  2011-01-01       1   0     1   1        0        6   \n",
       "2            3  2011-01-01       1   0     1   2        0        6   \n",
       "3            4  2011-01-01       1   0     1   3        0        6   \n",
       "4            5  2011-01-01       1   0     1   4        0        6   \n",
       "...        ...         ...     ...  ..   ...  ..      ...      ...   \n",
       "17374    17375  2012-12-31       1   1    12  19        0        1   \n",
       "17375    17376  2012-12-31       1   1    12  20        0        1   \n",
       "17376    17377  2012-12-31       1   1    12  21        0        1   \n",
       "17377    17378  2012-12-31       1   1    12  22        0        1   \n",
       "17378    17379  2012-12-31       1   1    12  23        0        1   \n",
       "\n",
       "       workingday  weathersit  temp   atemp   hum  windspeed  casual  \\\n",
       "0               0           1  0.24  0.2879  0.81     0.0000       3   \n",
       "1               0           1  0.22  0.2727  0.80     0.0000       8   \n",
       "2               0           1  0.22  0.2727  0.80     0.0000       5   \n",
       "3               0           1  0.24  0.2879  0.75     0.0000       3   \n",
       "4               0           1  0.24  0.2879  0.75     0.0000       0   \n",
       "...           ...         ...   ...     ...   ...        ...     ...   \n",
       "17374           1           2  0.26  0.2576  0.60     0.1642      11   \n",
       "17375           1           2  0.26  0.2576  0.60     0.1642       8   \n",
       "17376           1           1  0.26  0.2576  0.60     0.1642       7   \n",
       "17377           1           1  0.26  0.2727  0.56     0.1343      13   \n",
       "17378           1           1  0.26  0.2727  0.65     0.1343      12   \n",
       "\n",
       "       registered  cnt  \n",
       "0              13   16  \n",
       "1              32   40  \n",
       "2              27   32  \n",
       "3              10   13  \n",
       "4               1    1  \n",
       "...           ...  ...  \n",
       "17374         108  119  \n",
       "17375          81   89  \n",
       "17376          83   90  \n",
       "17377          48   61  \n",
       "17378          37   49  \n",
       "\n",
       "[17379 rows x 17 columns]"
      ]
     },
     "execution_count": 3,
     "metadata": {},
     "output_type": "execute_result"
    }
   ],
   "source": [
    "import pandas as pd\n",
    "\n",
    "df = pd.read_csv(\"hour.csv\")\n",
    "df"
   ]
  },
  {
   "cell_type": "markdown",
   "id": "5b61bab1-6888-48b2-ad1e-09737697ae28",
   "metadata": {},
   "source": [
    "# Data Preprocess"
   ]
  },
  {
   "cell_type": "code",
   "execution_count": 4,
   "id": "2f615238",
   "metadata": {},
   "outputs": [
    {
     "data": {
      "text/plain": [
       "array([[1.0000e+00, 0.0000e+00, 1.0000e+00, ..., 3.0000e+00, 1.3000e+01,\n",
       "        1.6000e+01],\n",
       "       [2.0000e+00, 0.0000e+00, 1.0000e+00, ..., 8.0000e+00, 3.2000e+01,\n",
       "        4.0000e+01],\n",
       "       [3.0000e+00, 0.0000e+00, 1.0000e+00, ..., 5.0000e+00, 2.7000e+01,\n",
       "        3.2000e+01],\n",
       "       ...,\n",
       "       [1.7377e+04, 7.3000e+02, 1.0000e+00, ..., 7.0000e+00, 8.3000e+01,\n",
       "        9.0000e+01],\n",
       "       [1.7378e+04, 7.3000e+02, 1.0000e+00, ..., 1.3000e+01, 4.8000e+01,\n",
       "        6.1000e+01],\n",
       "       [1.7379e+04, 7.3000e+02, 1.0000e+00, ..., 1.2000e+01, 3.7000e+01,\n",
       "        4.9000e+01]])"
      ]
     },
     "execution_count": 4,
     "metadata": {},
     "output_type": "execute_result"
    }
   ],
   "source": [
    "reference_date = pd.Timestamp('2011-01-01')\n",
    "df.iloc[:, 1] = (pd.to_datetime(df.iloc[:, 1]) - reference_date).dt.days\n",
    "data = df.to_numpy(dtype=float)\n",
    "data"
   ]
  },
  {
   "cell_type": "code",
   "execution_count": 5,
   "id": "b67ac9ec",
   "metadata": {},
   "outputs": [
    {
     "data": {
      "text/plain": [
       "array([[0.000e+00, 1.000e+00, 0.000e+00, ..., 2.879e-01, 8.100e-01,\n",
       "        0.000e+00],\n",
       "       [0.000e+00, 1.000e+00, 0.000e+00, ..., 2.727e-01, 8.000e-01,\n",
       "        0.000e+00],\n",
       "       [0.000e+00, 1.000e+00, 0.000e+00, ..., 2.727e-01, 8.000e-01,\n",
       "        0.000e+00],\n",
       "       ...,\n",
       "       [7.300e+02, 1.000e+00, 1.000e+00, ..., 2.576e-01, 6.000e-01,\n",
       "        1.642e-01],\n",
       "       [7.300e+02, 1.000e+00, 1.000e+00, ..., 2.727e-01, 5.600e-01,\n",
       "        1.343e-01],\n",
       "       [7.300e+02, 1.000e+00, 1.000e+00, ..., 2.727e-01, 6.500e-01,\n",
       "        1.343e-01]])"
      ]
     },
     "execution_count": 5,
     "metadata": {},
     "output_type": "execute_result"
    }
   ],
   "source": [
    "X_whole = data[:, 1:14] # the first column is index, not necessary\n",
    "Y_whole = data[:, 16] # count of total rental bikes as label\n",
    "X_whole "
   ]
  },
  {
   "cell_type": "code",
   "execution_count": 6,
   "id": "d631b582",
   "metadata": {},
   "outputs": [],
   "source": [
    "def standardize(X):\n",
    "    mean = np.mean(X, axis=0)\n",
    "    std = np.std(X, axis=0)\n",
    "    return (X-mean)/std, mean, std\n",
    "\n",
    "def split_train_test(X_whole, Y_whole, num=1500, rate=0.7):\n",
    "    # Shuffle data first\n",
    "    indices = jax.random.permutation(grab_prng(), X_whole.shape[0])\n",
    "    X_part = X_whole[indices]\n",
    "    Y_part = Y_whole[indices]\n",
    "    \n",
    "    indices = jax.random.permutation(grab_prng(), num)\n",
    "    X_shuffled = X_part[indices]\n",
    "    Y_shuffled = Y_part[indices]\n",
    "    \n",
    "    # Standardize the shuffled data\n",
    "    X, mean, std = standardize(X_shuffled)\n",
    "    Y, mean, std = standardize(Y_shuffled)\n",
    "\n",
    "    # Use the same indices for Y\n",
    "    # Y = Y_shuffled\n",
    "    \n",
    "    # Compute the split index\n",
    "    split_idx = int(num * rate)\n",
    "    \n",
    "    # Split indices into train and test\n",
    "    train_indices = indices[:split_idx]\n",
    "    test_indices = indices[split_idx:]\n",
    "    \n",
    "    # Split data using the indices\n",
    "    X_train = X[train_indices]\n",
    "    Y_train = Y[train_indices]\n",
    "    X_test = X[test_indices]\n",
    "    Y_test = Y[test_indices]\n",
    "    \n",
    "    return X_train, Y_train, X_test, Y_test\n"
   ]
  },
  {
   "cell_type": "code",
   "execution_count": 7,
   "id": "c01b07b9",
   "metadata": {},
   "outputs": [],
   "source": [
    "def split_sequence(X_train, Y_train, seq_len=8):\n",
    "    n_samples = X_train.shape[0]\n",
    "    indices = jax.random.permutation(grab_prng(), n_samples)\n",
    "     # Shuffle the data\n",
    "    X_train_shuffled = X_train[indices]\n",
    "    Y_train_shuffled = Y_train[indices]\n",
    "    \n",
    "    # Calculate the base size of each subset\n",
    "    subset_size = n_samples // seq_len\n",
    "    remainder = n_samples % seq_len\n",
    "    \n",
    "    # Initialize lists to hold the subsets\n",
    "    X_seq = []\n",
    "    Y_seq = []\n",
    "    \n",
    "    start_idx = 0\n",
    "    for i in range(seq_len):\n",
    "        # The first subset gets the remainder (extra) samples\n",
    "        if i == 0:\n",
    "            end_idx = start_idx + subset_size + remainder\n",
    "        else:\n",
    "            end_idx = start_idx + subset_size\n",
    "        \n",
    "        X_seq.append(X_train_shuffled[start_idx:end_idx])\n",
    "        Y_seq.append(Y_train_shuffled[start_idx:end_idx])\n",
    "        \n",
    "        start_idx = end_idx\n",
    "    return X_seq, Y_seq"
   ]
  },
  {
   "cell_type": "code",
   "execution_count": 8,
   "id": "3a8a9eb7",
   "metadata": {},
   "outputs": [],
   "source": [
    "X_train, Y_train, X_test, Y_test = split_train_test(X_whole, Y_whole, num=1500, rate=0.7)\n",
    "X_con, Y_con = split_sequence(X_train, Y_train, seq_len=2)\n",
    "X_seq, Y_seq = split_sequence(X_train, Y_train, seq_len=8)\n",
    "\n"
   ]
  },
  {
   "cell_type": "code",
   "execution_count": null,
   "id": "de6c4a11",
   "metadata": {},
   "outputs": [],
   "source": []
  },
  {
   "cell_type": "code",
   "execution_count": null,
   "id": "74c95120",
   "metadata": {},
   "outputs": [],
   "source": []
  },
  {
   "cell_type": "markdown",
   "id": "0eece8ba-7932-4338-b9bb-1da218726f8a",
   "metadata": {},
   "source": [
    "# Hyperparameter initialization"
   ]
  },
  {
   "cell_type": "markdown",
   "id": "f053f909-8261-4872-9729-6f4e04231514",
   "metadata": {},
   "source": [
    "Note that, in the below initialization, it is assumed that noise variance is the first component, signal variance the second, and length scale the third. Feel free to modify if using pytrees.\n",
    "\n",
    "Further note: these are assumed constrained (strictly positive). You should map to unconstrained prior to running optimization, and map back to constrained when forming the GP posterior, and evaluating the predictive density for evaluation."
   ]
  },
  {
   "cell_type": "code",
   "execution_count": 9,
   "id": "4de92ec2-abac-4905-9e75-0294b86194ec",
   "metadata": {},
   "outputs": [],
   "source": [
    "# def random_init_sqexp_hyperparams():\n",
    "#     return np.array([jax.random.uniform(grab_prng(), minval=0.2, maxval=2),\n",
    "#                      jax.random.uniform(grab_prng(), minval=0.2, maxval=2),\n",
    "#                      X_train.shape[1]*jax.random.uniform(grab_prng(), minval=1, maxval=10)])\n",
    "#"
   ]
  },
  {
   "cell_type": "markdown",
   "id": "d2b21180-e161-471e-b974-5af0442e297f",
   "metadata": {},
   "source": [
    "# Plotting code"
   ]
  },
  {
   "cell_type": "code",
   "execution_count": 10,
   "id": "1f2b728b-22b4-49d4-a3da-fa1da6cb7538",
   "metadata": {},
   "outputs": [],
   "source": [
    "def scatterplot(lml_lpd):\n",
    "    plt.scatter(lml_lpd[:,0], lml_lpd[:,1])\n",
    "    \n",
    "    plt.xlabel('Log marginal likelihood')\n",
    "    plt.ylabel('Negative log predictive density')\n",
    "    plt.title('Is marginal likelihood a good indicator of generalization?')\n",
    "    plt.legend()\n",
    "#"
   ]
  },
  {
   "cell_type": "markdown",
   "id": "2daacf8b-66f5-4922-a1ef-cfad27a2c1e5",
   "metadata": {},
   "source": [
    "# Experiment 1: Empirical Bayes for squared-exponential kernel"
   ]
  },
  {
   "cell_type": "code",
   "execution_count": null,
   "id": "52d07284",
   "metadata": {},
   "outputs": [],
   "source": []
  },
  {
   "cell_type": "code",
   "execution_count": 11,
   "id": "84862917-0610-406a-a1de-6caa919d17ce",
   "metadata": {},
   "outputs": [],
   "source": [
    "# n_trials = 20\n",
    "# T = 200\n",
    "# step_size = 5e-4\n",
    "\n",
    "# gathered_trials = []\n",
    "# hyperparams_inits = []\n",
    "# for i in range(n_trials):\n",
    "#    hyperparams_inits.append(random_init_sqexp_hyperparams())\n",
    "\n",
    "# cov_func = sqexp_cov_function\n",
    "# X_star = X_test\n",
    "# for n in range(n_trials):\n",
    "#    hyperparams_init = hyperparams_inits[n]\n",
    "#    unconstrained_hyperparams_init = inverse_param_transform(hyperparams_init)\n",
    "   \n",
    "#    # sqexp_cov_function(X_train, X_train, unconstrained_hyperparams_init)\n",
    "   \n",
    "#    (unconstrained_hyperparams, lml) = empirical_bayes(cov_func, X_train, Y_train, unconstrained_hyperparams_init, step_size, T)\n",
    "#    hyperparams = param_transform(unconstrained_hyperparams)\n",
    "   \n",
    "#    posterior_predictive = gp_posterior(cov_func, X_train, Y_train, hyperparams_init)\n",
    "#    (posterior_mean, posterior_var) = posterior_predictive(X_star)\n",
    "#    neg_log_initial = neg_log_predictive_density(Y_test, posterior_mean, posterior_var, hyperparams_init[0])\n",
    "\n",
    "#    posterior_predictive = gp_posterior(cov_func, X_train, Y_train, hyperparams)\n",
    "#    (posterior_mean, posterior_var) = posterior_predictive(X_star)\n",
    "#    neg_log_final = neg_log_predictive_density(Y_test, posterior_mean, posterior_var, hyperparams[0])\n",
    "\n",
    "#    print(np.array([neg_log_initial, neg_log_final, lml]))\n",
    "#    gathered_trials.append(np.array([neg_log_initial, neg_log_final, lml]))\n",
    "# #\n",
    "# gathered_trials"
   ]
  },
  {
   "cell_type": "code",
   "execution_count": 12,
   "id": "4a92d2ff",
   "metadata": {},
   "outputs": [],
   "source": [
    "# trials_array = np.array(gathered_trials)\n",
    "# lml_lpd = np.column_stack((trials_array[:, 2], trials_array[:, 1]))\n",
    "# scatterplot(lml_lpd)\n"
   ]
  },
  {
   "cell_type": "markdown",
   "id": "764acee6",
   "metadata": {},
   "source": [
    "# Dicsussion\n",
    "1. Negative log probability was consistently improved over the hyperparameters used at initialization, across all runs.\n",
    "2. According to the scatterplot above, we can see that as log marginal likelihood increases, negative log predicitive density on test set decreases at first, and increases later. Log marginal likelihood is a metric of our hyperparameters. The larger log marginal likelihood is, the better our hyperparameters are. But if they are better is determined by training set. Thus it's reasonable that \"better\" hyperparameters on training set don't always work better on test set. A large marginal likelihood may cause overfitting, although it works very well on training set. It's not a good indicator of generalization."
   ]
  },
  {
   "cell_type": "markdown",
   "id": "838c1238-32ba-4f43-94f7-962d8e350a01",
   "metadata": {},
   "source": [
    "# Experiment 2 - feature importance using learned Mahalanobis distances"
   ]
  },
  {
   "cell_type": "code",
   "execution_count": 13,
   "id": "28d8d5ee-5be9-4a80-a97a-4d7b93673d64",
   "metadata": {},
   "outputs": [],
   "source": [
    "# use as your initial hyperparameters -> first two parameters are noise variance and signal variance,\n",
    "# remaining parameters are length scale; feel free to modify if using pytrees\n",
    "def random_init_sqexp_maha_hyperparams(X_train):\n",
    "    var = jax.random.uniform(grab_prng(), shape=(2,), minval=0.2, maxval=2)\n",
    "    length_scale = jax.random.uniform(grab_prng(), shape=(X_train.shape[1],), minval=1, maxval=10)\n",
    "    return np.concatenate([var, length_scale])\n"
   ]
  },
  {
   "cell_type": "code",
   "execution_count": null,
   "id": "d460a0ce",
   "metadata": {},
   "outputs": [],
   "source": [
    "# experiment settings\n",
    "n_trials = 20\n",
    "T = 100\n",
    "step_size = 5e-3\n",
    "cov_func = sqexp_mahalanobis_cov_function\n",
    "X_star = X_test\n",
    "hyperparams_inits = []\n",
    "for i in range(n_trials):\n",
    "   hyperparams_inits.append(random_init_sqexp_maha_hyperparams(X_train))\n"
   ]
  },
  {
   "cell_type": "code",
   "execution_count": null,
   "id": "28f75865",
   "metadata": {},
   "outputs": [
    {
     "name": "stdout",
     "output_type": "stream",
     "text": [
      "[567.89243329 177.74203924 684.88590181]\n",
      "[593.74975905 178.36315779 683.78905706]\n",
      "[631.9587167  178.20519614 675.49421506]\n",
      "[579.71656603 178.07523291 676.86824082]\n",
      "[559.58732511 178.80852312 674.94925117]\n",
      "[665.6606515  178.11059004 684.78417352]\n",
      "[544.39419656 178.89441477 675.122626  ]\n",
      "[540.02665297 178.55199991 684.91321674]\n",
      "[639.46409336 179.42070265 675.48127931]\n",
      "[489.91515816 178.53767818 675.32873764]\n",
      "[522.29669987 178.14777771 675.39350272]\n",
      "[633.04966745 179.52550968 674.5209827 ]\n",
      "[582.45373208 178.63242502 675.02834514]\n",
      "[637.40621802 179.24403146 674.72435182]\n",
      "[522.35905157 177.73443934 677.87676678]\n",
      "[617.63687302 177.89656611 675.6900144 ]\n",
      "[493.50981595 178.77146764 675.23899255]\n",
      "[531.07252798 177.92614475 675.59202723]\n",
      "[513.68557193 178.71326241 675.11637433]\n",
      "[645.13629061 178.22490679 679.27524542]\n"
     ]
    },
    {
     "data": {
      "text/plain": [
       "[Array([567.89243329, 177.74203924, 684.88590181], dtype=float64),\n",
       " Array([593.74975905, 178.36315779, 683.78905706], dtype=float64),\n",
       " Array([631.9587167 , 178.20519614, 675.49421506], dtype=float64),\n",
       " Array([579.71656603, 178.07523291, 676.86824082], dtype=float64),\n",
       " Array([559.58732511, 178.80852312, 674.94925117], dtype=float64),\n",
       " Array([665.6606515 , 178.11059004, 684.78417352], dtype=float64),\n",
       " Array([544.39419656, 178.89441477, 675.122626  ], dtype=float64),\n",
       " Array([540.02665297, 178.55199991, 684.91321674], dtype=float64),\n",
       " Array([639.46409336, 179.42070265, 675.48127931], dtype=float64),\n",
       " Array([489.91515816, 178.53767818, 675.32873764], dtype=float64),\n",
       " Array([522.29669987, 178.14777771, 675.39350272], dtype=float64),\n",
       " Array([633.04966745, 179.52550968, 674.5209827 ], dtype=float64),\n",
       " Array([582.45373208, 178.63242502, 675.02834514], dtype=float64),\n",
       " Array([637.40621802, 179.24403146, 674.72435182], dtype=float64),\n",
       " Array([522.35905157, 177.73443934, 677.87676678], dtype=float64),\n",
       " Array([617.63687302, 177.89656611, 675.6900144 ], dtype=float64),\n",
       " Array([493.50981595, 178.77146764, 675.23899255], dtype=float64),\n",
       " Array([531.07252798, 177.92614475, 675.59202723], dtype=float64),\n",
       " Array([513.68557193, 178.71326241, 675.11637433], dtype=float64),\n",
       " Array([645.13629061, 178.22490679, 679.27524542], dtype=float64)]"
      ]
     },
     "execution_count": 14,
     "metadata": {},
     "output_type": "execute_result"
    }
   ],
   "source": [
    "# optimize hyperparameters according lml\n",
    "lml_trials = []\n",
    "\n",
    "for n in range(n_trials):\n",
    "   hyperparams_init = hyperparams_inits[n]\n",
    "   unconstrained_hyperparams_init = inverse_param_transform(hyperparams_init)\n",
    "   (unconstrained_hyperparams, lml) = empirical_bayes(cov_func, X_train, Y_train, unconstrained_hyperparams_init, step_size, T)\n",
    "   hyperparams = param_transform(unconstrained_hyperparams)\n",
    "   \n",
    "   posterior_predictive = gp_posterior(cov_func, X_train, Y_train, hyperparams_init)\n",
    "   (posterior_mean, posterior_var) = posterior_predictive(X_star)\n",
    "   neg_log_initial = neg_log_predictive_density(Y_test, posterior_mean, posterior_var, hyperparams_init[0])\n",
    "\n",
    "   posterior_predictive = gp_posterior(cov_func, X_train, Y_train, hyperparams)\n",
    "   (posterior_mean, posterior_var) = posterior_predictive(X_star)\n",
    "   neg_log_final = neg_log_predictive_density(Y_test, posterior_mean, posterior_var, hyperparams[0])\n",
    "   print(np.array([neg_log_initial, neg_log_final, lml]))\n",
    "   lml_trials.append(np.array([neg_log_initial, neg_log_final, lml]))\n",
    "#"
   ]
  },
  {
   "cell_type": "code",
   "execution_count": null,
   "id": "3f6984be",
   "metadata": {},
   "outputs": [
    {
     "name": "stderr",
     "output_type": "stream",
     "text": [
      "C:\\Users\\Yue\\AppData\\Local\\Temp\\ipykernel_8068\\1312685826.py:7: UserWarning: No artists with labels found to put in legend.  Note that artists whose label start with an underscore are ignored when legend() is called with no argument.\n",
      "  plt.legend()\n"
     ]
    },
    {
     "data": {
      "image/png": "[encoded data removed]",
      "text/plain": [
       "<Figure size 640x480 with 1 Axes>"
      ]
     },
     "metadata": {},
     "output_type": "display_data"
    }
   ],
   "source": [
    "trials_array = np.array(lml_trials)\n",
    "lml_lpd = np.column_stack((trials_array[:, 2], trials_array[:, 1]))\n",
    "scatterplot(lml_lpd)"
   ]
  },
  {
   "cell_type": "code",
   "execution_count": 19,
   "id": "75db0b14",
   "metadata": {},
   "outputs": [
    {
     "ename": "ValueError",
     "evalue": "axis 2 is out of bounds for array of dimension 2",
     "output_type": "error",
     "traceback": [
      "\u001b[1;31m---------------------------------------------------------------------------\u001b[0m",
      "\u001b[1;31mValueError\u001b[0m                                Traceback (most recent call last)",
      "Cell \u001b[1;32mIn[19], line 7\u001b[0m\n\u001b[0;32m      5\u001b[0m hyperparams_init \u001b[38;5;241m=\u001b[39m hyperparams_inits[n]\n\u001b[0;32m      6\u001b[0m unconstrained_hyperparams_init \u001b[38;5;241m=\u001b[39m inverse_param_transform(hyperparams_init)\n\u001b[1;32m----> 7\u001b[0m (unconstrained_hyperparams, clml) \u001b[38;5;241m=\u001b[39m \u001b[43mclml_opt\u001b[49m\u001b[43m(\u001b[49m\u001b[43mcov_func\u001b[49m\u001b[43m,\u001b[49m\u001b[43m \u001b[49m\u001b[43mX_con\u001b[49m\u001b[43m,\u001b[49m\u001b[43m \u001b[49m\u001b[43mY_con\u001b[49m\u001b[43m,\u001b[49m\u001b[43m \u001b[49m\u001b[43munconstrained_hyperparams_init\u001b[49m\u001b[43m,\u001b[49m\u001b[43m \u001b[49m\u001b[43mstep_size\u001b[49m\u001b[43m,\u001b[49m\u001b[43m \u001b[49m\u001b[43mT\u001b[49m\u001b[43m)\u001b[49m\n\u001b[0;32m      8\u001b[0m hyperparams \u001b[38;5;241m=\u001b[39m param_transform(unconstrained_hyperparams)\n\u001b[0;32m     10\u001b[0m posterior_predictive \u001b[38;5;241m=\u001b[39m gp_posterior(cov_func, X_train, Y_train, hyperparams_init)\n",
      "File \u001b[1;32mc:\\Users\\Yue\\userDoc\\7 code\\Python\\advml\\conditional-marginal-likelihood-sequence\\gp.py:185\u001b[0m, in \u001b[0;36mclml_opt\u001b[1;34m(cov_func, X_con, Y_con, unconstrained_hyperparams_init, step_size, T)\u001b[0m\n\u001b[0;32m    183\u001b[0m unconstrained_hyperparams \u001b[38;5;241m=\u001b[39m unconstrained_hyperparams_init\n\u001b[0;32m    184\u001b[0m \u001b[38;5;28;01mfor\u001b[39;00m i \u001b[38;5;129;01min\u001b[39;00m \u001b[38;5;28mrange\u001b[39m(T):\n\u001b[1;32m--> 185\u001b[0m     val, grad \u001b[38;5;241m=\u001b[39m \u001b[43mval_grad_lml_function\u001b[49m\u001b[43m(\u001b[49m\u001b[43munconstrained_hyperparams\u001b[49m\u001b[43m)\u001b[49m\n\u001b[0;32m    186\u001b[0m     unconstrained_hyperparams \u001b[38;5;241m+\u001b[39m\u001b[38;5;241m=\u001b[39m grad \u001b[38;5;241m*\u001b[39m step_size\n\u001b[0;32m    187\u001b[0m \u001b[38;5;66;03m#\u001b[39;00m\n",
      "    \u001b[1;31m[... skipping hidden 8 frame]\u001b[0m\n",
      "File \u001b[1;32mc:\\Users\\Yue\\userDoc\\7 code\\Python\\advml\\conditional-marginal-likelihood-sequence\\gp.py:172\u001b[0m, in \u001b[0;36mconditional_log_marginal_likelihood.<locals>.clml_function\u001b[1;34m(unconstrained_hyperparams)\u001b[0m\n\u001b[0;32m    170\u001b[0m \u001b[38;5;28;01mdef\u001b[39;00m \u001b[38;5;21mclml_function\u001b[39m(unconstrained_hyperparams):\n\u001b[0;32m    171\u001b[0m     hyperparams \u001b[38;5;241m=\u001b[39m param_transform(unconstrained_hyperparams)\n\u001b[1;32m--> 172\u001b[0m     posterior_predictive \u001b[38;5;241m=\u001b[39m \u001b[43mgp_posterior\u001b[49m\u001b[43m(\u001b[49m\u001b[43mcov_func\u001b[49m\u001b[43m,\u001b[49m\u001b[43m \u001b[49m\u001b[43mX_con\u001b[49m\u001b[43m[\u001b[49m\u001b[38;5;241;43m0\u001b[39;49m\u001b[43m]\u001b[49m\u001b[43m,\u001b[49m\u001b[43m \u001b[49m\u001b[43mY_con\u001b[49m\u001b[43m[\u001b[49m\u001b[38;5;241;43m0\u001b[39;49m\u001b[43m]\u001b[49m\u001b[43m,\u001b[49m\u001b[43m \u001b[49m\u001b[43mhyperparams\u001b[49m\u001b[43m)\u001b[49m\n\u001b[0;32m    173\u001b[0m     (posterior_mean, posterior_var) \u001b[38;5;241m=\u001b[39m posterior_predictive(X_star)\n\u001b[0;32m    174\u001b[0m     \u001b[38;5;28;01mreturn\u001b[39;00m \u001b[38;5;241m-\u001b[39mneg_log_predictive_density(Y_test, posterior_mean, posterior_var, hyperparams[\u001b[38;5;241m0\u001b[39m])\n",
      "File \u001b[1;32mc:\\Users\\Yue\\userDoc\\7 code\\Python\\advml\\conditional-marginal-likelihood-sequence\\gp.py:113\u001b[0m, in \u001b[0;36mgp_posterior\u001b[1;34m(cov_func, X_train, Y_train, hyperparams)\u001b[0m\n\u001b[0;32m    110\u001b[0m signal_variance \u001b[38;5;241m=\u001b[39m hyperparams[\u001b[38;5;241m1\u001b[39m]\n\u001b[0;32m    111\u001b[0m l \u001b[38;5;241m=\u001b[39m hyperparams[\u001b[38;5;241m2\u001b[39m:]\n\u001b[1;32m--> 113\u001b[0m Kxx \u001b[38;5;241m=\u001b[39m noise_variance\u001b[38;5;241m*\u001b[39mnp\u001b[38;5;241m.\u001b[39meye(N) \u001b[38;5;241m+\u001b[39m \u001b[43mcov_func\u001b[49m\u001b[43m(\u001b[49m\u001b[43mX_train\u001b[49m\u001b[43m,\u001b[49m\u001b[43m \u001b[49m\u001b[43mX_train\u001b[49m\u001b[43m,\u001b[49m\u001b[43m \u001b[49m\u001b[43mhyperparams\u001b[49m\u001b[43m)\u001b[49m\n\u001b[0;32m    114\u001b[0m cfac \u001b[38;5;241m=\u001b[39m cho_factor(Kxx, lower\u001b[38;5;241m=\u001b[39m\u001b[38;5;28;01mTrue\u001b[39;00m)\n\u001b[0;32m    115\u001b[0m Lower \u001b[38;5;241m=\u001b[39m cfac[\u001b[38;5;241m0\u001b[39m]\n",
      "File \u001b[1;32mc:\\Users\\Yue\\userDoc\\7 code\\Python\\advml\\conditional-marginal-likelihood-sequence\\gp.py:70\u001b[0m, in \u001b[0;36msqexp_mahalanobis_cov_function\u001b[1;34m(X1, X2, hyperparams)\u001b[0m\n\u001b[0;32m     68\u001b[0m X1_tilde \u001b[38;5;241m=\u001b[39m X1 \u001b[38;5;241m@\u001b[39m L_sqrt_inv\n\u001b[0;32m     69\u001b[0m X2_tilde \u001b[38;5;241m=\u001b[39m X2 \u001b[38;5;241m@\u001b[39m L_sqrt_inv\n\u001b[1;32m---> 70\u001b[0m sqr_dis \u001b[38;5;241m=\u001b[39m \u001b[43mnp\u001b[49m\u001b[38;5;241;43m.\u001b[39;49m\u001b[43msum\u001b[49m\u001b[43m(\u001b[49m\u001b[43m \u001b[49m\u001b[43m(\u001b[49m\u001b[43mnp\u001b[49m\u001b[38;5;241;43m.\u001b[39;49m\u001b[43mexpand_dims\u001b[49m\u001b[43m(\u001b[49m\u001b[43mX1_tilde\u001b[49m\u001b[43m,\u001b[49m\u001b[43m \u001b[49m\u001b[38;5;241;43m1\u001b[39;49m\u001b[43m)\u001b[49m\u001b[38;5;241;43m-\u001b[39;49m\u001b[43mnp\u001b[49m\u001b[38;5;241;43m.\u001b[39;49m\u001b[43mexpand_dims\u001b[49m\u001b[43m(\u001b[49m\u001b[43mX2_tilde\u001b[49m\u001b[43m,\u001b[49m\u001b[43m \u001b[49m\u001b[38;5;241;43m0\u001b[39;49m\u001b[43m)\u001b[49m\u001b[43m)\u001b[49m\u001b[43m \u001b[49m\u001b[38;5;241;43m*\u001b[39;49m\u001b[38;5;241;43m*\u001b[39;49m\u001b[43m \u001b[49m\u001b[38;5;241;43m2\u001b[39;49m\u001b[43m,\u001b[49m\u001b[43m \u001b[49m\u001b[43maxis\u001b[49m\u001b[38;5;241;43m=\u001b[39;49m\u001b[38;5;241;43m2\u001b[39;49m\u001b[43m \u001b[49m\u001b[43m)\u001b[49m \u001b[38;5;66;03m# squared Euclidean distance matrix\u001b[39;00m\n\u001b[0;32m     71\u001b[0m \u001b[38;5;28;01mreturn\u001b[39;00m signal_variance \u001b[38;5;241m*\u001b[39m np\u001b[38;5;241m.\u001b[39mexp(\u001b[38;5;241m-\u001b[39m sqr_dis)\n",
      "File \u001b[1;32mc:\\Users\\Yue\\userDoc\\7 code\\Python\\.conda\\lib\\site-packages\\jax\\_src\\numpy\\reductions.py:289\u001b[0m, in \u001b[0;36msum\u001b[1;34m(a, axis, dtype, out, keepdims, initial, where, promote_integers)\u001b[0m\n\u001b[0;32m    220\u001b[0m \u001b[38;5;28;01mdef\u001b[39;00m \u001b[38;5;21msum\u001b[39m(a: ArrayLike, axis: Axis \u001b[38;5;241m=\u001b[39m \u001b[38;5;28;01mNone\u001b[39;00m, dtype: DTypeLike \u001b[38;5;241m|\u001b[39m \u001b[38;5;28;01mNone\u001b[39;00m \u001b[38;5;241m=\u001b[39m \u001b[38;5;28;01mNone\u001b[39;00m,\n\u001b[0;32m    221\u001b[0m         out: \u001b[38;5;28;01mNone\u001b[39;00m \u001b[38;5;241m=\u001b[39m \u001b[38;5;28;01mNone\u001b[39;00m, keepdims: \u001b[38;5;28mbool\u001b[39m \u001b[38;5;241m=\u001b[39m \u001b[38;5;28;01mFalse\u001b[39;00m, initial: ArrayLike \u001b[38;5;241m|\u001b[39m \u001b[38;5;28;01mNone\u001b[39;00m \u001b[38;5;241m=\u001b[39m \u001b[38;5;28;01mNone\u001b[39;00m,\n\u001b[0;32m    222\u001b[0m         where: ArrayLike \u001b[38;5;241m|\u001b[39m \u001b[38;5;28;01mNone\u001b[39;00m \u001b[38;5;241m=\u001b[39m \u001b[38;5;28;01mNone\u001b[39;00m, promote_integers: \u001b[38;5;28mbool\u001b[39m \u001b[38;5;241m=\u001b[39m \u001b[38;5;28;01mTrue\u001b[39;00m) \u001b[38;5;241m-\u001b[39m\u001b[38;5;241m>\u001b[39m Array:\n\u001b[0;32m    223\u001b[0m \u001b[38;5;250m  \u001b[39m\u001b[38;5;124mr\u001b[39m\u001b[38;5;124;03m\"\"\"Sum of the elements of the array over a given axis.\u001b[39;00m\n\u001b[0;32m    224\u001b[0m \n\u001b[0;32m    225\u001b[0m \u001b[38;5;124;03m  JAX implementation of :func:`numpy.sum`.\u001b[39;00m\n\u001b[1;32m   (...)\u001b[0m\n\u001b[0;32m    287\u001b[0m \u001b[38;5;124;03m    Array([[0, 0, 0, 0]], dtype=int32)\u001b[39;00m\n\u001b[0;32m    288\u001b[0m \u001b[38;5;124;03m  \"\"\"\u001b[39;00m\n\u001b[1;32m--> 289\u001b[0m   \u001b[38;5;28;01mreturn\u001b[39;00m \u001b[43m_reduce_sum\u001b[49m\u001b[43m(\u001b[49m\u001b[43ma\u001b[49m\u001b[43m,\u001b[49m\u001b[43m \u001b[49m\u001b[43maxis\u001b[49m\u001b[38;5;241;43m=\u001b[39;49m\u001b[43m_ensure_optional_axes\u001b[49m\u001b[43m(\u001b[49m\u001b[43maxis\u001b[49m\u001b[43m)\u001b[49m\u001b[43m,\u001b[49m\u001b[43m \u001b[49m\u001b[43mdtype\u001b[49m\u001b[38;5;241;43m=\u001b[39;49m\u001b[43mdtype\u001b[49m\u001b[43m,\u001b[49m\u001b[43m \u001b[49m\u001b[43mout\u001b[49m\u001b[38;5;241;43m=\u001b[39;49m\u001b[43mout\u001b[49m\u001b[43m,\u001b[49m\n\u001b[0;32m    290\u001b[0m \u001b[43m                     \u001b[49m\u001b[43mkeepdims\u001b[49m\u001b[38;5;241;43m=\u001b[39;49m\u001b[43mkeepdims\u001b[49m\u001b[43m,\u001b[49m\u001b[43m \u001b[49m\u001b[43minitial\u001b[49m\u001b[38;5;241;43m=\u001b[39;49m\u001b[43minitial\u001b[49m\u001b[43m,\u001b[49m\u001b[43m \u001b[49m\u001b[43mwhere\u001b[49m\u001b[38;5;241;43m=\u001b[39;49m\u001b[43mwhere\u001b[49m\u001b[43m,\u001b[49m\n\u001b[0;32m    291\u001b[0m \u001b[43m                     \u001b[49m\u001b[43mpromote_integers\u001b[49m\u001b[38;5;241;43m=\u001b[39;49m\u001b[43mpromote_integers\u001b[49m\u001b[43m)\u001b[49m\n",
      "    \u001b[1;31m[... skipping hidden 11 frame]\u001b[0m\n",
      "File \u001b[1;32mc:\\Users\\Yue\\userDoc\\7 code\\Python\\.conda\\lib\\site-packages\\jax\\_src\\numpy\\reductions.py:213\u001b[0m, in \u001b[0;36m_reduce_sum\u001b[1;34m(a, axis, dtype, out, keepdims, initial, where, promote_integers)\u001b[0m\n\u001b[0;32m    208\u001b[0m \u001b[38;5;129m@partial\u001b[39m(api\u001b[38;5;241m.\u001b[39mjit, static_argnames\u001b[38;5;241m=\u001b[39m(\u001b[38;5;124m'\u001b[39m\u001b[38;5;124maxis\u001b[39m\u001b[38;5;124m'\u001b[39m, \u001b[38;5;124m'\u001b[39m\u001b[38;5;124mdtype\u001b[39m\u001b[38;5;124m'\u001b[39m, \u001b[38;5;124m'\u001b[39m\u001b[38;5;124mkeepdims\u001b[39m\u001b[38;5;124m'\u001b[39m, \u001b[38;5;124m'\u001b[39m\u001b[38;5;124mpromote_integers\u001b[39m\u001b[38;5;124m'\u001b[39m), inline\u001b[38;5;241m=\u001b[39m\u001b[38;5;28;01mTrue\u001b[39;00m)\n\u001b[0;32m    209\u001b[0m \u001b[38;5;28;01mdef\u001b[39;00m \u001b[38;5;21m_reduce_sum\u001b[39m(a: ArrayLike, axis: Axis \u001b[38;5;241m=\u001b[39m \u001b[38;5;28;01mNone\u001b[39;00m, dtype: DTypeLike \u001b[38;5;241m|\u001b[39m \u001b[38;5;28;01mNone\u001b[39;00m \u001b[38;5;241m=\u001b[39m \u001b[38;5;28;01mNone\u001b[39;00m,\n\u001b[0;32m    210\u001b[0m                 out: \u001b[38;5;28;01mNone\u001b[39;00m \u001b[38;5;241m=\u001b[39m \u001b[38;5;28;01mNone\u001b[39;00m, keepdims: \u001b[38;5;28mbool\u001b[39m \u001b[38;5;241m=\u001b[39m \u001b[38;5;28;01mFalse\u001b[39;00m,\n\u001b[0;32m    211\u001b[0m                 initial: ArrayLike \u001b[38;5;241m|\u001b[39m \u001b[38;5;28;01mNone\u001b[39;00m \u001b[38;5;241m=\u001b[39m \u001b[38;5;28;01mNone\u001b[39;00m, where: ArrayLike \u001b[38;5;241m|\u001b[39m \u001b[38;5;28;01mNone\u001b[39;00m \u001b[38;5;241m=\u001b[39m \u001b[38;5;28;01mNone\u001b[39;00m,\n\u001b[0;32m    212\u001b[0m                 promote_integers: \u001b[38;5;28mbool\u001b[39m \u001b[38;5;241m=\u001b[39m \u001b[38;5;28;01mTrue\u001b[39;00m) \u001b[38;5;241m-\u001b[39m\u001b[38;5;241m>\u001b[39m Array:\n\u001b[1;32m--> 213\u001b[0m   \u001b[38;5;28;01mreturn\u001b[39;00m \u001b[43m_reduction\u001b[49m\u001b[43m(\u001b[49m\u001b[43ma\u001b[49m\u001b[43m,\u001b[49m\u001b[43m \u001b[49m\u001b[38;5;124;43m\"\u001b[39;49m\u001b[38;5;124;43msum\u001b[39;49m\u001b[38;5;124;43m\"\u001b[39;49m\u001b[43m,\u001b[49m\u001b[43m \u001b[49m\u001b[43mnp\u001b[49m\u001b[38;5;241;43m.\u001b[39;49m\u001b[43msum\u001b[49m\u001b[43m,\u001b[49m\u001b[43m \u001b[49m\u001b[43mlax\u001b[49m\u001b[38;5;241;43m.\u001b[39;49m\u001b[43madd\u001b[49m\u001b[43m,\u001b[49m\u001b[43m \u001b[49m\u001b[38;5;241;43m0\u001b[39;49m\u001b[43m,\u001b[49m\u001b[43m \u001b[49m\u001b[43mpreproc\u001b[49m\u001b[38;5;241;43m=\u001b[39;49m\u001b[43m_cast_to_numeric\u001b[49m\u001b[43m,\u001b[49m\n\u001b[0;32m    214\u001b[0m \u001b[43m                    \u001b[49m\u001b[43mbool_op\u001b[49m\u001b[38;5;241;43m=\u001b[39;49m\u001b[43mlax\u001b[49m\u001b[38;5;241;43m.\u001b[39;49m\u001b[43mbitwise_or\u001b[49m\u001b[43m,\u001b[49m\u001b[43m \u001b[49m\u001b[43mupcast_f16_for_computation\u001b[49m\u001b[38;5;241;43m=\u001b[39;49m\u001b[38;5;28;43;01mTrue\u001b[39;49;00m\u001b[43m,\u001b[49m\n\u001b[0;32m    215\u001b[0m \u001b[43m                    \u001b[49m\u001b[43maxis\u001b[49m\u001b[38;5;241;43m=\u001b[39;49m\u001b[43maxis\u001b[49m\u001b[43m,\u001b[49m\u001b[43m \u001b[49m\u001b[43mdtype\u001b[49m\u001b[38;5;241;43m=\u001b[39;49m\u001b[43mdtype\u001b[49m\u001b[43m,\u001b[49m\u001b[43m \u001b[49m\u001b[43mout\u001b[49m\u001b[38;5;241;43m=\u001b[39;49m\u001b[43mout\u001b[49m\u001b[43m,\u001b[49m\u001b[43m \u001b[49m\u001b[43mkeepdims\u001b[49m\u001b[38;5;241;43m=\u001b[39;49m\u001b[43mkeepdims\u001b[49m\u001b[43m,\u001b[49m\n\u001b[0;32m    216\u001b[0m \u001b[43m                    \u001b[49m\u001b[43minitial\u001b[49m\u001b[38;5;241;43m=\u001b[39;49m\u001b[43minitial\u001b[49m\u001b[43m,\u001b[49m\u001b[43m \u001b[49m\u001b[43mwhere_\u001b[49m\u001b[38;5;241;43m=\u001b[39;49m\u001b[43mwhere\u001b[49m\u001b[43m,\u001b[49m\u001b[43m \u001b[49m\u001b[43mparallel_reduce\u001b[49m\u001b[38;5;241;43m=\u001b[39;49m\u001b[43mlax\u001b[49m\u001b[38;5;241;43m.\u001b[39;49m\u001b[43mpsum\u001b[49m\u001b[43m,\u001b[49m\n\u001b[0;32m    217\u001b[0m \u001b[43m                    \u001b[49m\u001b[43mpromote_integers\u001b[49m\u001b[38;5;241;43m=\u001b[39;49m\u001b[43mpromote_integers\u001b[49m\u001b[43m)\u001b[49m\n",
      "File \u001b[1;32mc:\\Users\\Yue\\userDoc\\7 code\\Python\\.conda\\lib\\site-packages\\jax\\_src\\numpy\\reductions.py:111\u001b[0m, in \u001b[0;36m_reduction\u001b[1;34m(a, name, np_fun, op, init_val, has_identity, preproc, bool_op, upcast_f16_for_computation, axis, dtype, out, keepdims, initial, where_, parallel_reduce, promote_integers)\u001b[0m\n\u001b[0;32m    109\u001b[0m a \u001b[38;5;241m=\u001b[39m a \u001b[38;5;28;01mif\u001b[39;00m \u001b[38;5;28misinstance\u001b[39m(a, Array) \u001b[38;5;28;01melse\u001b[39;00m lax_internal\u001b[38;5;241m.\u001b[39masarray(a)\n\u001b[0;32m    110\u001b[0m a \u001b[38;5;241m=\u001b[39m preproc(a) \u001b[38;5;28;01mif\u001b[39;00m preproc \u001b[38;5;28;01melse\u001b[39;00m a\n\u001b[1;32m--> 111\u001b[0m pos_dims, dims \u001b[38;5;241m=\u001b[39m \u001b[43m_reduction_dims\u001b[49m\u001b[43m(\u001b[49m\u001b[43ma\u001b[49m\u001b[43m,\u001b[49m\u001b[43m \u001b[49m\u001b[43maxis\u001b[49m\u001b[43m)\u001b[49m\n\u001b[0;32m    113\u001b[0m \u001b[38;5;28;01mif\u001b[39;00m initial \u001b[38;5;129;01mis\u001b[39;00m \u001b[38;5;28;01mNone\u001b[39;00m \u001b[38;5;129;01mand\u001b[39;00m \u001b[38;5;129;01mnot\u001b[39;00m has_identity:\n\u001b[0;32m    114\u001b[0m   shape \u001b[38;5;241m=\u001b[39m np\u001b[38;5;241m.\u001b[39mshape(a)\n",
      "File \u001b[1;32mc:\\Users\\Yue\\userDoc\\7 code\\Python\\.conda\\lib\\site-packages\\jax\\_src\\numpy\\reductions.py:160\u001b[0m, in \u001b[0;36m_reduction_dims\u001b[1;34m(a, axis)\u001b[0m\n\u001b[0;32m    158\u001b[0m \u001b[38;5;28;01melif\u001b[39;00m \u001b[38;5;129;01mnot\u001b[39;00m \u001b[38;5;28misinstance\u001b[39m(axis, (np\u001b[38;5;241m.\u001b[39mndarray, \u001b[38;5;28mtuple\u001b[39m, \u001b[38;5;28mlist\u001b[39m)):\n\u001b[0;32m    159\u001b[0m   axis \u001b[38;5;241m=\u001b[39m (axis,)  \u001b[38;5;66;03m# type: ignore[assignment]\u001b[39;00m\n\u001b[1;32m--> 160\u001b[0m canon_axis \u001b[38;5;241m=\u001b[39m \u001b[38;5;28;43mtuple\u001b[39;49m\u001b[43m(\u001b[49m\u001b[43m_canonicalize_axis_allow_named\u001b[49m\u001b[43m(\u001b[49m\u001b[43mx\u001b[49m\u001b[43m,\u001b[49m\u001b[43m \u001b[49m\u001b[43mnp\u001b[49m\u001b[38;5;241;43m.\u001b[39;49m\u001b[43mndim\u001b[49m\u001b[43m(\u001b[49m\u001b[43ma\u001b[49m\u001b[43m)\u001b[49m\u001b[43m)\u001b[49m\n\u001b[0;32m    161\u001b[0m \u001b[43m                   \u001b[49m\u001b[38;5;28;43;01mfor\u001b[39;49;00m\u001b[43m \u001b[49m\u001b[43mx\u001b[49m\u001b[43m \u001b[49m\u001b[38;5;129;43;01min\u001b[39;49;00m\u001b[43m \u001b[49m\u001b[43maxis\u001b[49m\u001b[43m)\u001b[49m  \u001b[38;5;66;03m# type: ignore[union-attr]\u001b[39;00m\n\u001b[0;32m    162\u001b[0m \u001b[38;5;28;01mif\u001b[39;00m \u001b[38;5;28mlen\u001b[39m(canon_axis) \u001b[38;5;241m!=\u001b[39m \u001b[38;5;28mlen\u001b[39m(\u001b[38;5;28mset\u001b[39m(canon_axis)):\n\u001b[0;32m    163\u001b[0m   \u001b[38;5;28;01mraise\u001b[39;00m \u001b[38;5;167;01mValueError\u001b[39;00m(\u001b[38;5;124mf\u001b[39m\u001b[38;5;124m\"\u001b[39m\u001b[38;5;124mduplicate value in \u001b[39m\u001b[38;5;124m'\u001b[39m\u001b[38;5;124maxis\u001b[39m\u001b[38;5;124m'\u001b[39m\u001b[38;5;124m: \u001b[39m\u001b[38;5;132;01m{\u001b[39;00maxis\u001b[38;5;132;01m}\u001b[39;00m\u001b[38;5;124m\"\u001b[39m)\n",
      "File \u001b[1;32mc:\\Users\\Yue\\userDoc\\7 code\\Python\\.conda\\lib\\site-packages\\jax\\_src\\numpy\\reductions.py:160\u001b[0m, in \u001b[0;36m<genexpr>\u001b[1;34m(.0)\u001b[0m\n\u001b[0;32m    158\u001b[0m \u001b[38;5;28;01melif\u001b[39;00m \u001b[38;5;129;01mnot\u001b[39;00m \u001b[38;5;28misinstance\u001b[39m(axis, (np\u001b[38;5;241m.\u001b[39mndarray, \u001b[38;5;28mtuple\u001b[39m, \u001b[38;5;28mlist\u001b[39m)):\n\u001b[0;32m    159\u001b[0m   axis \u001b[38;5;241m=\u001b[39m (axis,)  \u001b[38;5;66;03m# type: ignore[assignment]\u001b[39;00m\n\u001b[1;32m--> 160\u001b[0m canon_axis \u001b[38;5;241m=\u001b[39m \u001b[38;5;28mtuple\u001b[39m(\u001b[43m_canonicalize_axis_allow_named\u001b[49m\u001b[43m(\u001b[49m\u001b[43mx\u001b[49m\u001b[43m,\u001b[49m\u001b[43m \u001b[49m\u001b[43mnp\u001b[49m\u001b[38;5;241;43m.\u001b[39;49m\u001b[43mndim\u001b[49m\u001b[43m(\u001b[49m\u001b[43ma\u001b[49m\u001b[43m)\u001b[49m\u001b[43m)\u001b[49m\n\u001b[0;32m    161\u001b[0m                    \u001b[38;5;28;01mfor\u001b[39;00m x \u001b[38;5;129;01min\u001b[39;00m axis)  \u001b[38;5;66;03m# type: ignore[union-attr]\u001b[39;00m\n\u001b[0;32m    162\u001b[0m \u001b[38;5;28;01mif\u001b[39;00m \u001b[38;5;28mlen\u001b[39m(canon_axis) \u001b[38;5;241m!=\u001b[39m \u001b[38;5;28mlen\u001b[39m(\u001b[38;5;28mset\u001b[39m(canon_axis)):\n\u001b[0;32m    163\u001b[0m   \u001b[38;5;28;01mraise\u001b[39;00m \u001b[38;5;167;01mValueError\u001b[39;00m(\u001b[38;5;124mf\u001b[39m\u001b[38;5;124m\"\u001b[39m\u001b[38;5;124mduplicate value in \u001b[39m\u001b[38;5;124m'\u001b[39m\u001b[38;5;124maxis\u001b[39m\u001b[38;5;124m'\u001b[39m\u001b[38;5;124m: \u001b[39m\u001b[38;5;132;01m{\u001b[39;00maxis\u001b[38;5;132;01m}\u001b[39;00m\u001b[38;5;124m\"\u001b[39m)\n",
      "File \u001b[1;32mc:\\Users\\Yue\\userDoc\\7 code\\Python\\.conda\\lib\\site-packages\\jax\\_src\\numpy\\reductions.py:153\u001b[0m, in \u001b[0;36m_canonicalize_axis_allow_named\u001b[1;34m(x, rank)\u001b[0m\n\u001b[0;32m    152\u001b[0m \u001b[38;5;28;01mdef\u001b[39;00m \u001b[38;5;21m_canonicalize_axis_allow_named\u001b[39m(x, rank):\n\u001b[1;32m--> 153\u001b[0m   \u001b[38;5;28;01mreturn\u001b[39;00m \u001b[43mmaybe_named_axis\u001b[49m\u001b[43m(\u001b[49m\u001b[43mx\u001b[49m\u001b[43m,\u001b[49m\u001b[43m \u001b[49m\u001b[38;5;28;43;01mlambda\u001b[39;49;00m\u001b[43m \u001b[49m\u001b[43mi\u001b[49m\u001b[43m:\u001b[49m\u001b[43m \u001b[49m\u001b[43m_canonicalize_axis\u001b[49m\u001b[43m(\u001b[49m\u001b[43mi\u001b[49m\u001b[43m,\u001b[49m\u001b[43m \u001b[49m\u001b[43mrank\u001b[49m\u001b[43m)\u001b[49m\u001b[43m,\u001b[49m\u001b[43m \u001b[49m\u001b[38;5;28;43;01mlambda\u001b[39;49;00m\u001b[43m \u001b[49m\u001b[43mname\u001b[49m\u001b[43m:\u001b[49m\u001b[43m \u001b[49m\u001b[43mname\u001b[49m\u001b[43m)\u001b[49m\n",
      "    \u001b[1;31m[... skipping hidden 1 frame]\u001b[0m\n",
      "File \u001b[1;32mc:\\Users\\Yue\\userDoc\\7 code\\Python\\.conda\\lib\\site-packages\\jax\\_src\\numpy\\reductions.py:153\u001b[0m, in \u001b[0;36m_canonicalize_axis_allow_named.<locals>.<lambda>\u001b[1;34m(i)\u001b[0m\n\u001b[0;32m    152\u001b[0m \u001b[38;5;28;01mdef\u001b[39;00m \u001b[38;5;21m_canonicalize_axis_allow_named\u001b[39m(x, rank):\n\u001b[1;32m--> 153\u001b[0m   \u001b[38;5;28;01mreturn\u001b[39;00m maybe_named_axis(x, \u001b[38;5;28;01mlambda\u001b[39;00m i: \u001b[43m_canonicalize_axis\u001b[49m\u001b[43m(\u001b[49m\u001b[43mi\u001b[49m\u001b[43m,\u001b[49m\u001b[43m \u001b[49m\u001b[43mrank\u001b[49m\u001b[43m)\u001b[49m, \u001b[38;5;28;01mlambda\u001b[39;00m name: name)\n",
      "File \u001b[1;32mc:\\Users\\Yue\\userDoc\\7 code\\Python\\.conda\\lib\\site-packages\\jax\\_src\\util.py:389\u001b[0m, in \u001b[0;36mcanonicalize_axis\u001b[1;34m(axis, num_dims)\u001b[0m\n\u001b[0;32m    387\u001b[0m axis \u001b[38;5;241m=\u001b[39m operator\u001b[38;5;241m.\u001b[39mindex(axis)\n\u001b[0;32m    388\u001b[0m \u001b[38;5;28;01mif\u001b[39;00m \u001b[38;5;129;01mnot\u001b[39;00m \u001b[38;5;241m-\u001b[39mnum_dims \u001b[38;5;241m<\u001b[39m\u001b[38;5;241m=\u001b[39m axis \u001b[38;5;241m<\u001b[39m num_dims:\n\u001b[1;32m--> 389\u001b[0m   \u001b[38;5;28;01mraise\u001b[39;00m \u001b[38;5;167;01mValueError\u001b[39;00m(\u001b[38;5;124mf\u001b[39m\u001b[38;5;124m\"\u001b[39m\u001b[38;5;124maxis \u001b[39m\u001b[38;5;132;01m{\u001b[39;00maxis\u001b[38;5;132;01m}\u001b[39;00m\u001b[38;5;124m is out of bounds for array of dimension \u001b[39m\u001b[38;5;132;01m{\u001b[39;00mnum_dims\u001b[38;5;132;01m}\u001b[39;00m\u001b[38;5;124m\"\u001b[39m)\n\u001b[0;32m    390\u001b[0m \u001b[38;5;28;01mif\u001b[39;00m axis \u001b[38;5;241m<\u001b[39m \u001b[38;5;241m0\u001b[39m:\n\u001b[0;32m    391\u001b[0m   axis \u001b[38;5;241m=\u001b[39m axis \u001b[38;5;241m+\u001b[39m num_dims\n",
      "\u001b[1;31mValueError\u001b[0m: axis 2 is out of bounds for array of dimension 2"
     ]
    }
   ],
   "source": [
    "# optimize hyperparameters according lml\n",
    "clml_trials = []\n",
    "\n",
    "for n in range(n_trials):\n",
    "   hyperparams_init = hyperparams_inits[n]\n",
    "   unconstrained_hyperparams_init = inverse_param_transform(hyperparams_init)\n",
    "   (unconstrained_hyperparams, clml) = clml_opt(cov_func, X_con, Y_con, unconstrained_hyperparams_init, step_size, T)\n",
    "   hyperparams = param_transform(unconstrained_hyperparams)\n",
    "   \n",
    "   posterior_predictive = gp_posterior(cov_func, X_train, Y_train, hyperparams_init)\n",
    "   (posterior_mean, posterior_var) = posterior_predictive(X_star)\n",
    "   neg_log_initial = neg_log_predictive_density(Y_test, posterior_mean, posterior_var, hyperparams_init[0])\n",
    "\n",
    "   posterior_predictive = gp_posterior(cov_func, X_train, Y_train, hyperparams)\n",
    "   (posterior_mean, posterior_var) = posterior_predictive(X_star)\n",
    "   neg_log_final = neg_log_predictive_density(Y_test, posterior_mean, posterior_var, hyperparams[0])\n",
    "   print(np.array([neg_log_initial, neg_log_final, clml]))\n",
    "   clml_trials.append(np.array([neg_log_initial, neg_log_final, clml]))"
   ]
  },
  {
   "cell_type": "code",
   "execution_count": null,
   "id": "3030abb3",
   "metadata": {},
   "outputs": [
    {
     "name": "stderr",
     "output_type": "stream",
     "text": [
      "C:\\Users\\Yue\\AppData\\Local\\Temp\\ipykernel_8068\\1312685826.py:7: UserWarning: No artists with labels found to put in legend.  Note that artists whose label start with an underscore are ignored when legend() is called with no argument.\n",
      "  plt.legend()\n"
     ]
    },
    {
     "data": {
      "image/png": "[encoded data removed]",
      "text/plain": [
       "<Figure size 640x480 with 1 Axes>"
      ]
     },
     "metadata": {},
     "output_type": "display_data"
    }
   ],
   "source": [
    "trials_array = np.array(clml_trials)\n",
    "clml_lpd = np.column_stack((trials_array[:, 2], trials_array[:, 1]))\n",
    "scatterplot(clml_lpd)"
   ]
  }
 ],
 "metadata": {
  "kernelspec": {
   "display_name": "Python 3",
   "language": "python",
   "name": "python3"
  },
  "language_info": {
   "codemirror_mode": {
    "name": "ipython",
    "version": 3
   },
   "file_extension": ".py",
   "mimetype": "text/x-python",
   "name": "python",
   "nbconvert_exporter": "python",
   "pygments_lexer": "ipython3",
   "version": "3.10.15"
  }
 },
 "nbformat": 4,
 "nbformat_minor": 5
}
