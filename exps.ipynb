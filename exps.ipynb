{
 "cells": [
  {
   "cell_type": "code",
   "execution_count": 130,
   "id": "d80707a1-2f16-4bd2-8774-bcc3b6347ee2",
   "metadata": {},
   "outputs": [],
   "source": [
    "from gp import *\n",
    "import matplotlib.pyplot as plt\n",
    "plt.style.use('ggplot')"
   ]
  },
  {
   "cell_type": "code",
   "execution_count": 131,
   "id": "cb2a0dba",
   "metadata": {},
   "outputs": [
    {
     "data": {
      "text/plain": [
       "<module 'gp' from 'c:\\\\Users\\\\Yue\\\\userDoc\\\\7 code\\\\Python\\\\advml\\\\conditional-marginal-likelihood-sequence\\\\gp.py'>"
      ]
     },
     "execution_count": 131,
     "metadata": {},
     "output_type": "execute_result"
    }
   ],
   "source": [
    "import importlib\n",
    "import gp\n",
    "importlib.reload(gp)\n"
   ]
  },
  {
   "cell_type": "markdown",
   "id": "2eb4f9b2",
   "metadata": {},
   "source": [
    "# Dataset characteristics<br>\n",
    "- instant: record index<br>\n",
    "- dteday : date\n",
    "- season : season (1:springer, 2:summer, 3:fall, 4:winter)\n",
    "- yr : year (0: 2011, 1:2012)\n",
    "- mnth : month (1 to 12)\n",
    "- hr : hour (0 to 23)\n",
    "- holiday : whether day is holiday or not (extracted from http://dchr.dc.gov/page/holiday-schedule)\n",
    "- weekday : day of the week\n",
    "- workingday : if day is neither weekend nor holiday is 1, otherwise is 0.\n",
    "+ weathersit : \n",
    "    - 1: Clear, Few clouds, Partly cloudy, Partly cloudy\n",
    "    - 2: Mist + Cloudy, Mist + Broken clouds, Mist + Few clouds, Mist\n",
    "    - 3: Light Snow, Light Rain + Thunderstorm + Scattered clouds, Light Rain + Scattered clouds\n",
    "    - 4: Heavy Rain + Ice Pallets + Thunderstorm + Mist, Snow + Fog\n",
    "- temp : Normalized temperature in Celsius. The values are divided to 41 (max)\n",
    "- atemp: Normalized feeling temperature in Celsius. The values are divided to 50 (max)\n",
    "- hum: Normalized humidity. The values are divided to 100 (max)\n",
    "- windspeed: Normalized wind speed. The values are divided to 67 (max)\n",
    "- casual: count of casual users\n",
    "- registered: count of registered users\n",
    "- cnt: count of total rental bikes including both casual and registered"
   ]
  },
  {
   "cell_type": "code",
   "execution_count": 3,
   "id": "62ccf28f",
   "metadata": {},
   "outputs": [
    {
     "data": {
      "text/html": [
       "<div>\n",
       "<style scoped>\n",
       "    .dataframe tbody tr th:only-of-type {\n",
       "        vertical-align: middle;\n",
       "    }\n",
       "\n",
       "    .dataframe tbody tr th {\n",
       "        vertical-align: top;\n",
       "    }\n",
       "\n",
       "    .dataframe thead th {\n",
       "        text-align: right;\n",
       "    }\n",
       "</style>\n",
       "<table border=\"1\" class=\"dataframe\">\n",
       "  <thead>\n",
       "    <tr style=\"text-align: right;\">\n",
       "      <th></th>\n",
       "      <th>instant</th>\n",
       "      <th>dteday</th>\n",
       "      <th>season</th>\n",
       "      <th>yr</th>\n",
       "      <th>mnth</th>\n",
       "      <th>hr</th>\n",
       "      <th>holiday</th>\n",
       "      <th>weekday</th>\n",
       "      <th>workingday</th>\n",
       "      <th>weathersit</th>\n",
       "      <th>temp</th>\n",
       "      <th>atemp</th>\n",
       "      <th>hum</th>\n",
       "      <th>windspeed</th>\n",
       "      <th>casual</th>\n",
       "      <th>registered</th>\n",
       "      <th>cnt</th>\n",
       "    </tr>\n",
       "  </thead>\n",
       "  <tbody>\n",
       "    <tr>\n",
       "      <th>0</th>\n",
       "      <td>1</td>\n",
       "      <td>2011-01-01</td>\n",
       "      <td>1</td>\n",
       "      <td>0</td>\n",
       "      <td>1</td>\n",
       "      <td>0</td>\n",
       "      <td>0</td>\n",
       "      <td>6</td>\n",
       "      <td>0</td>\n",
       "      <td>1</td>\n",
       "      <td>0.24</td>\n",
       "      <td>0.2879</td>\n",
       "      <td>0.81</td>\n",
       "      <td>0.0000</td>\n",
       "      <td>3</td>\n",
       "      <td>13</td>\n",
       "      <td>16</td>\n",
       "    </tr>\n",
       "    <tr>\n",
       "      <th>1</th>\n",
       "      <td>2</td>\n",
       "      <td>2011-01-01</td>\n",
       "      <td>1</td>\n",
       "      <td>0</td>\n",
       "      <td>1</td>\n",
       "      <td>1</td>\n",
       "      <td>0</td>\n",
       "      <td>6</td>\n",
       "      <td>0</td>\n",
       "      <td>1</td>\n",
       "      <td>0.22</td>\n",
       "      <td>0.2727</td>\n",
       "      <td>0.80</td>\n",
       "      <td>0.0000</td>\n",
       "      <td>8</td>\n",
       "      <td>32</td>\n",
       "      <td>40</td>\n",
       "    </tr>\n",
       "    <tr>\n",
       "      <th>2</th>\n",
       "      <td>3</td>\n",
       "      <td>2011-01-01</td>\n",
       "      <td>1</td>\n",
       "      <td>0</td>\n",
       "      <td>1</td>\n",
       "      <td>2</td>\n",
       "      <td>0</td>\n",
       "      <td>6</td>\n",
       "      <td>0</td>\n",
       "      <td>1</td>\n",
       "      <td>0.22</td>\n",
       "      <td>0.2727</td>\n",
       "      <td>0.80</td>\n",
       "      <td>0.0000</td>\n",
       "      <td>5</td>\n",
       "      <td>27</td>\n",
       "      <td>32</td>\n",
       "    </tr>\n",
       "    <tr>\n",
       "      <th>3</th>\n",
       "      <td>4</td>\n",
       "      <td>2011-01-01</td>\n",
       "      <td>1</td>\n",
       "      <td>0</td>\n",
       "      <td>1</td>\n",
       "      <td>3</td>\n",
       "      <td>0</td>\n",
       "      <td>6</td>\n",
       "      <td>0</td>\n",
       "      <td>1</td>\n",
       "      <td>0.24</td>\n",
       "      <td>0.2879</td>\n",
       "      <td>0.75</td>\n",
       "      <td>0.0000</td>\n",
       "      <td>3</td>\n",
       "      <td>10</td>\n",
       "      <td>13</td>\n",
       "    </tr>\n",
       "    <tr>\n",
       "      <th>4</th>\n",
       "      <td>5</td>\n",
       "      <td>2011-01-01</td>\n",
       "      <td>1</td>\n",
       "      <td>0</td>\n",
       "      <td>1</td>\n",
       "      <td>4</td>\n",
       "      <td>0</td>\n",
       "      <td>6</td>\n",
       "      <td>0</td>\n",
       "      <td>1</td>\n",
       "      <td>0.24</td>\n",
       "      <td>0.2879</td>\n",
       "      <td>0.75</td>\n",
       "      <td>0.0000</td>\n",
       "      <td>0</td>\n",
       "      <td>1</td>\n",
       "      <td>1</td>\n",
       "    </tr>\n",
       "    <tr>\n",
       "      <th>...</th>\n",
       "      <td>...</td>\n",
       "      <td>...</td>\n",
       "      <td>...</td>\n",
       "      <td>...</td>\n",
       "      <td>...</td>\n",
       "      <td>...</td>\n",
       "      <td>...</td>\n",
       "      <td>...</td>\n",
       "      <td>...</td>\n",
       "      <td>...</td>\n",
       "      <td>...</td>\n",
       "      <td>...</td>\n",
       "      <td>...</td>\n",
       "      <td>...</td>\n",
       "      <td>...</td>\n",
       "      <td>...</td>\n",
       "      <td>...</td>\n",
       "    </tr>\n",
       "    <tr>\n",
       "      <th>17374</th>\n",
       "      <td>17375</td>\n",
       "      <td>2012-12-31</td>\n",
       "      <td>1</td>\n",
       "      <td>1</td>\n",
       "      <td>12</td>\n",
       "      <td>19</td>\n",
       "      <td>0</td>\n",
       "      <td>1</td>\n",
       "      <td>1</td>\n",
       "      <td>2</td>\n",
       "      <td>0.26</td>\n",
       "      <td>0.2576</td>\n",
       "      <td>0.60</td>\n",
       "      <td>0.1642</td>\n",
       "      <td>11</td>\n",
       "      <td>108</td>\n",
       "      <td>119</td>\n",
       "    </tr>\n",
       "    <tr>\n",
       "      <th>17375</th>\n",
       "      <td>17376</td>\n",
       "      <td>2012-12-31</td>\n",
       "      <td>1</td>\n",
       "      <td>1</td>\n",
       "      <td>12</td>\n",
       "      <td>20</td>\n",
       "      <td>0</td>\n",
       "      <td>1</td>\n",
       "      <td>1</td>\n",
       "      <td>2</td>\n",
       "      <td>0.26</td>\n",
       "      <td>0.2576</td>\n",
       "      <td>0.60</td>\n",
       "      <td>0.1642</td>\n",
       "      <td>8</td>\n",
       "      <td>81</td>\n",
       "      <td>89</td>\n",
       "    </tr>\n",
       "    <tr>\n",
       "      <th>17376</th>\n",
       "      <td>17377</td>\n",
       "      <td>2012-12-31</td>\n",
       "      <td>1</td>\n",
       "      <td>1</td>\n",
       "      <td>12</td>\n",
       "      <td>21</td>\n",
       "      <td>0</td>\n",
       "      <td>1</td>\n",
       "      <td>1</td>\n",
       "      <td>1</td>\n",
       "      <td>0.26</td>\n",
       "      <td>0.2576</td>\n",
       "      <td>0.60</td>\n",
       "      <td>0.1642</td>\n",
       "      <td>7</td>\n",
       "      <td>83</td>\n",
       "      <td>90</td>\n",
       "    </tr>\n",
       "    <tr>\n",
       "      <th>17377</th>\n",
       "      <td>17378</td>\n",
       "      <td>2012-12-31</td>\n",
       "      <td>1</td>\n",
       "      <td>1</td>\n",
       "      <td>12</td>\n",
       "      <td>22</td>\n",
       "      <td>0</td>\n",
       "      <td>1</td>\n",
       "      <td>1</td>\n",
       "      <td>1</td>\n",
       "      <td>0.26</td>\n",
       "      <td>0.2727</td>\n",
       "      <td>0.56</td>\n",
       "      <td>0.1343</td>\n",
       "      <td>13</td>\n",
       "      <td>48</td>\n",
       "      <td>61</td>\n",
       "    </tr>\n",
       "    <tr>\n",
       "      <th>17378</th>\n",
       "      <td>17379</td>\n",
       "      <td>2012-12-31</td>\n",
       "      <td>1</td>\n",
       "      <td>1</td>\n",
       "      <td>12</td>\n",
       "      <td>23</td>\n",
       "      <td>0</td>\n",
       "      <td>1</td>\n",
       "      <td>1</td>\n",
       "      <td>1</td>\n",
       "      <td>0.26</td>\n",
       "      <td>0.2727</td>\n",
       "      <td>0.65</td>\n",
       "      <td>0.1343</td>\n",
       "      <td>12</td>\n",
       "      <td>37</td>\n",
       "      <td>49</td>\n",
       "    </tr>\n",
       "  </tbody>\n",
       "</table>\n",
       "<p>17379 rows × 17 columns</p>\n",
       "</div>"
      ],
      "text/plain": [
       "       instant      dteday  season  yr  mnth  hr  holiday  weekday  \\\n",
       "0            1  2011-01-01       1   0     1   0        0        6   \n",
       "1            2  2011-01-01       1   0     1   1        0        6   \n",
       "2            3  2011-01-01       1   0     1   2        0        6   \n",
       "3            4  2011-01-01       1   0     1   3        0        6   \n",
       "4            5  2011-01-01       1   0     1   4        0        6   \n",
       "...        ...         ...     ...  ..   ...  ..      ...      ...   \n",
       "17374    17375  2012-12-31       1   1    12  19        0        1   \n",
       "17375    17376  2012-12-31       1   1    12  20        0        1   \n",
       "17376    17377  2012-12-31       1   1    12  21        0        1   \n",
       "17377    17378  2012-12-31       1   1    12  22        0        1   \n",
       "17378    17379  2012-12-31       1   1    12  23        0        1   \n",
       "\n",
       "       workingday  weathersit  temp   atemp   hum  windspeed  casual  \\\n",
       "0               0           1  0.24  0.2879  0.81     0.0000       3   \n",
       "1               0           1  0.22  0.2727  0.80     0.0000       8   \n",
       "2               0           1  0.22  0.2727  0.80     0.0000       5   \n",
       "3               0           1  0.24  0.2879  0.75     0.0000       3   \n",
       "4               0           1  0.24  0.2879  0.75     0.0000       0   \n",
       "...           ...         ...   ...     ...   ...        ...     ...   \n",
       "17374           1           2  0.26  0.2576  0.60     0.1642      11   \n",
       "17375           1           2  0.26  0.2576  0.60     0.1642       8   \n",
       "17376           1           1  0.26  0.2576  0.60     0.1642       7   \n",
       "17377           1           1  0.26  0.2727  0.56     0.1343      13   \n",
       "17378           1           1  0.26  0.2727  0.65     0.1343      12   \n",
       "\n",
       "       registered  cnt  \n",
       "0              13   16  \n",
       "1              32   40  \n",
       "2              27   32  \n",
       "3              10   13  \n",
       "4               1    1  \n",
       "...           ...  ...  \n",
       "17374         108  119  \n",
       "17375          81   89  \n",
       "17376          83   90  \n",
       "17377          48   61  \n",
       "17378          37   49  \n",
       "\n",
       "[17379 rows x 17 columns]"
      ]
     },
     "execution_count": 3,
     "metadata": {},
     "output_type": "execute_result"
    }
   ],
   "source": [
    "import pandas as pd\n",
    "\n",
    "df = pd.read_csv(\"hour.csv\")\n",
    "df"
   ]
  },
  {
   "cell_type": "markdown",
   "id": "5b61bab1-6888-48b2-ad1e-09737697ae28",
   "metadata": {},
   "source": [
    "# Data Preprocess"
   ]
  },
  {
   "cell_type": "code",
   "execution_count": 4,
   "id": "2f615238",
   "metadata": {},
   "outputs": [
    {
     "data": {
      "text/plain": [
       "array([[1.0000e+00, 0.0000e+00, 1.0000e+00, ..., 3.0000e+00, 1.3000e+01,\n",
       "        1.6000e+01],\n",
       "       [2.0000e+00, 0.0000e+00, 1.0000e+00, ..., 8.0000e+00, 3.2000e+01,\n",
       "        4.0000e+01],\n",
       "       [3.0000e+00, 0.0000e+00, 1.0000e+00, ..., 5.0000e+00, 2.7000e+01,\n",
       "        3.2000e+01],\n",
       "       ...,\n",
       "       [1.7377e+04, 7.3000e+02, 1.0000e+00, ..., 7.0000e+00, 8.3000e+01,\n",
       "        9.0000e+01],\n",
       "       [1.7378e+04, 7.3000e+02, 1.0000e+00, ..., 1.3000e+01, 4.8000e+01,\n",
       "        6.1000e+01],\n",
       "       [1.7379e+04, 7.3000e+02, 1.0000e+00, ..., 1.2000e+01, 3.7000e+01,\n",
       "        4.9000e+01]])"
      ]
     },
     "execution_count": 4,
     "metadata": {},
     "output_type": "execute_result"
    }
   ],
   "source": [
    "reference_date = pd.Timestamp('2011-01-01')\n",
    "df.iloc[:, 1] = (pd.to_datetime(df.iloc[:, 1]) - reference_date).dt.days\n",
    "data = df.to_numpy(dtype=float)\n",
    "data"
   ]
  },
  {
   "cell_type": "code",
   "execution_count": 5,
   "id": "b67ac9ec",
   "metadata": {},
   "outputs": [
    {
     "data": {
      "text/plain": [
       "array([[0.000e+00, 1.000e+00, 0.000e+00, ..., 2.879e-01, 8.100e-01,\n",
       "        0.000e+00],\n",
       "       [0.000e+00, 1.000e+00, 0.000e+00, ..., 2.727e-01, 8.000e-01,\n",
       "        0.000e+00],\n",
       "       [0.000e+00, 1.000e+00, 0.000e+00, ..., 2.727e-01, 8.000e-01,\n",
       "        0.000e+00],\n",
       "       ...,\n",
       "       [7.300e+02, 1.000e+00, 1.000e+00, ..., 2.576e-01, 6.000e-01,\n",
       "        1.642e-01],\n",
       "       [7.300e+02, 1.000e+00, 1.000e+00, ..., 2.727e-01, 5.600e-01,\n",
       "        1.343e-01],\n",
       "       [7.300e+02, 1.000e+00, 1.000e+00, ..., 2.727e-01, 6.500e-01,\n",
       "        1.343e-01]])"
      ]
     },
     "execution_count": 5,
     "metadata": {},
     "output_type": "execute_result"
    }
   ],
   "source": [
    "X_whole = data[:, 1:14] # the first column is index, not necessary\n",
    "Y_whole = data[:, 16] # count of total rental bikes as label\n",
    "X_whole "
   ]
  },
  {
   "cell_type": "code",
   "execution_count": 6,
   "id": "d631b582",
   "metadata": {},
   "outputs": [],
   "source": [
    "def standardize(X):\n",
    "    mean = np.mean(X, axis=0)\n",
    "    std = np.std(X, axis=0)\n",
    "    return (X-mean)/std, mean, std\n",
    "\n",
    "def split_train_test(X_whole, Y_whole, num=1500, rate=0.7):\n",
    "    # Shuffle data first\n",
    "    indices = jax.random.permutation(grab_prng(), X_whole.shape[0])\n",
    "    X_part = X_whole[indices]\n",
    "    Y_part = Y_whole[indices]\n",
    "    \n",
    "    indices = jax.random.permutation(grab_prng(), num)\n",
    "    X_shuffled = X_part[indices]\n",
    "    Y_shuffled = Y_part[indices]\n",
    "    \n",
    "    # Standardize the shuffled data\n",
    "    X, mean, std = standardize(X_shuffled)\n",
    "    Y, mean, std = standardize(Y_shuffled)\n",
    "\n",
    "    # Use the same indices for Y\n",
    "    # Y = Y_shuffled\n",
    "    \n",
    "    # Compute the split index\n",
    "    split_idx = int(num * rate)\n",
    "    \n",
    "    # Split indices into train and test\n",
    "    train_indices = indices[:split_idx]\n",
    "    test_indices = indices[split_idx:]\n",
    "    \n",
    "    # Split data using the indices\n",
    "    X_train = X[train_indices]\n",
    "    Y_train = Y[train_indices]\n",
    "    X_test = X[test_indices]\n",
    "    Y_test = Y[test_indices]\n",
    "    \n",
    "    return X_train, Y_train, X_test, Y_test\n"
   ]
  },
  {
   "cell_type": "code",
   "execution_count": 7,
   "id": "c01b07b9",
   "metadata": {},
   "outputs": [],
   "source": [
    "def split_sequence(X_train, Y_train, seq_len=8):\n",
    "    n_samples = X_train.shape[0]\n",
    "    indices = jax.random.permutation(grab_prng(), n_samples)\n",
    "     # Shuffle the data\n",
    "    X_train_shuffled = X_train[indices]\n",
    "    Y_train_shuffled = Y_train[indices]\n",
    "    \n",
    "    # Calculate the base size of each subset\n",
    "    subset_size = n_samples // seq_len\n",
    "    remainder = n_samples % seq_len\n",
    "    \n",
    "    # Initialize lists to hold the subsets\n",
    "    X_seq = []\n",
    "    Y_seq = []\n",
    "    \n",
    "    start_idx = 0\n",
    "    for i in range(seq_len):\n",
    "        # The first subset gets the remainder (extra) samples\n",
    "        if i == 0:\n",
    "            end_idx = start_idx + subset_size + remainder\n",
    "        else:\n",
    "            end_idx = start_idx + subset_size\n",
    "        \n",
    "        X_seq.append(X_train_shuffled[start_idx:end_idx])\n",
    "        Y_seq.append(Y_train_shuffled[start_idx:end_idx])\n",
    "        \n",
    "        start_idx = end_idx\n",
    "    return X_seq, Y_seq"
   ]
  },
  {
   "cell_type": "code",
   "execution_count": 8,
   "id": "3a8a9eb7",
   "metadata": {},
   "outputs": [],
   "source": [
    "X_train, Y_train, X_test, Y_test = split_train_test(X_whole, Y_whole, num=1500, rate=0.7)\n",
    "X_con, Y_con = split_sequence(X_train, Y_train, seq_len=2)\n",
    "X_seq, Y_seq = split_sequence(X_train, Y_train, seq_len=8)\n",
    "\n"
   ]
  },
  {
   "cell_type": "code",
   "execution_count": null,
   "id": "de6c4a11",
   "metadata": {},
   "outputs": [
    {
     "data": {
      "text/plain": [
       "Array([1, 2, 3, 4, 5, 6, 7, 8], dtype=int64)"
      ]
     },
     "execution_count": 242,
     "metadata": {},
     "output_type": "execute_result"
    }
   ],
   "source": []
  },
  {
   "cell_type": "code",
   "execution_count": null,
   "id": "74c95120",
   "metadata": {},
   "outputs": [
    {
     "data": {
      "text/plain": [
       "Array([[ 1.39418953,  1.33510352,  0.98807114, ...,  1.02985878,\n",
       "        -1.49421232, -0.43251876],\n",
       "       [-0.08912232,  1.33510352, -1.01207287, ..., -1.10712155,\n",
       "        -0.52383403,  0.54613803],\n",
       "       [ 0.17235894, -1.3748495 ,  0.98807114, ..., -1.01837456,\n",
       "        -1.03455945, -0.43251876],\n",
       "       ...,\n",
       "       [ 1.42746896,  1.33510352,  0.98807114, ..., -1.10712155,\n",
       "         1.26370492,  0.05680963],\n",
       "       [-1.05422586, -0.47153183, -1.01207287, ...,  1.02985878,\n",
       "         0.14010901,  0.05680963],\n",
       "       [ 1.2563176 ,  1.33510352,  0.98807114, ..., -0.1279661 ,\n",
       "         0.24225409, -0.18744474]], dtype=float64)"
      ]
     },
     "execution_count": 240,
     "metadata": {},
     "output_type": "execute_result"
    }
   ],
   "source": []
  },
  {
   "cell_type": "markdown",
   "id": "0eece8ba-7932-4338-b9bb-1da218726f8a",
   "metadata": {},
   "source": [
    "# Hyperparameter initialization"
   ]
  },
  {
   "cell_type": "markdown",
   "id": "f053f909-8261-4872-9729-6f4e04231514",
   "metadata": {},
   "source": [
    "Note that, in the below initialization, it is assumed that noise variance is the first component, signal variance the second, and length scale the third. Feel free to modify if using pytrees.\n",
    "\n",
    "Further note: these are assumed constrained (strictly positive). You should map to unconstrained prior to running optimization, and map back to constrained when forming the GP posterior, and evaluating the predictive density for evaluation."
   ]
  },
  {
   "cell_type": "code",
   "execution_count": 9,
   "id": "4de92ec2-abac-4905-9e75-0294b86194ec",
   "metadata": {},
   "outputs": [],
   "source": [
    "# def random_init_sqexp_hyperparams():\n",
    "#     return np.array([jax.random.uniform(grab_prng(), minval=0.2, maxval=2),\n",
    "#                      jax.random.uniform(grab_prng(), minval=0.2, maxval=2),\n",
    "#                      X_train.shape[1]*jax.random.uniform(grab_prng(), minval=1, maxval=10)])\n",
    "#"
   ]
  },
  {
   "cell_type": "markdown",
   "id": "d2b21180-e161-471e-b974-5af0442e297f",
   "metadata": {},
   "source": [
    "# Plotting code"
   ]
  },
  {
   "cell_type": "code",
   "execution_count": 10,
   "id": "1f2b728b-22b4-49d4-a3da-fa1da6cb7538",
   "metadata": {},
   "outputs": [],
   "source": [
    "def scatterplot(lml_lpd):\n",
    "    plt.scatter(lml_lpd[:,0], lml_lpd[:,1])\n",
    "    \n",
    "    plt.xlabel('Log marginal likelihood')\n",
    "    plt.ylabel('Negative log predictive density')\n",
    "    plt.title('Is marginal likelihood a good indicator of generalization?')\n",
    "    plt.legend()\n",
    "#"
   ]
  },
  {
   "cell_type": "markdown",
   "id": "2daacf8b-66f5-4922-a1ef-cfad27a2c1e5",
   "metadata": {},
   "source": [
    "# Experiment 1: Empirical Bayes for squared-exponential kernel"
   ]
  },
  {
   "cell_type": "code",
   "execution_count": null,
   "id": "52d07284",
   "metadata": {},
   "outputs": [],
   "source": []
  },
  {
   "cell_type": "code",
   "execution_count": 11,
   "id": "84862917-0610-406a-a1de-6caa919d17ce",
   "metadata": {},
   "outputs": [],
   "source": [
    "# n_trials = 20\n",
    "# T = 200\n",
    "# step_size = 5e-4\n",
    "\n",
    "# gathered_trials = []\n",
    "# hyperparams_inits = []\n",
    "# for i in range(n_trials):\n",
    "#    hyperparams_inits.append(random_init_sqexp_hyperparams())\n",
    "\n",
    "# cov_func = sqexp_cov_function\n",
    "# X_star = X_test\n",
    "# for n in range(n_trials):\n",
    "#    hyperparams_init = hyperparams_inits[n]\n",
    "#    unconstrained_hyperparams_init = inverse_param_transform(hyperparams_init)\n",
    "   \n",
    "#    # sqexp_cov_function(X_train, X_train, unconstrained_hyperparams_init)\n",
    "   \n",
    "#    (unconstrained_hyperparams, lml) = empirical_bayes(cov_func, X_train, Y_train, unconstrained_hyperparams_init, step_size, T)\n",
    "#    hyperparams = param_transform(unconstrained_hyperparams)\n",
    "   \n",
    "#    posterior_predictive = gp_posterior(cov_func, X_train, Y_train, hyperparams_init)\n",
    "#    (posterior_mean, posterior_var) = posterior_predictive(X_star)\n",
    "#    neg_log_initial = neg_log_predictive_density(Y_test, posterior_mean, posterior_var, hyperparams_init[0])\n",
    "\n",
    "#    posterior_predictive = gp_posterior(cov_func, X_train, Y_train, hyperparams)\n",
    "#    (posterior_mean, posterior_var) = posterior_predictive(X_star)\n",
    "#    neg_log_final = neg_log_predictive_density(Y_test, posterior_mean, posterior_var, hyperparams[0])\n",
    "\n",
    "#    print(np.array([neg_log_initial, neg_log_final, lml]))\n",
    "#    gathered_trials.append(np.array([neg_log_initial, neg_log_final, lml]))\n",
    "# #\n",
    "# gathered_trials"
   ]
  },
  {
   "cell_type": "code",
   "execution_count": 12,
   "id": "4a92d2ff",
   "metadata": {},
   "outputs": [],
   "source": [
    "# trials_array = np.array(gathered_trials)\n",
    "# lml_lpd = np.column_stack((trials_array[:, 2], trials_array[:, 1]))\n",
    "# scatterplot(lml_lpd)\n"
   ]
  },
  {
   "cell_type": "markdown",
   "id": "764acee6",
   "metadata": {},
   "source": [
    "# Dicsussion\n",
    "1. Negative log probability was consistently improved over the hyperparameters used at initialization, across all runs.\n",
    "2. According to the scatterplot above, we can see that as log marginal likelihood increases, negative log predicitive density on test set decreases at first, and increases later. Log marginal likelihood is a metric of our hyperparameters. The larger log marginal likelihood is, the better our hyperparameters are. But if they are better is determined by training set. Thus it's reasonable that \"better\" hyperparameters on training set don't always work better on test set. A large marginal likelihood may cause overfitting, although it works very well on training set. It's not a good indicator of generalization."
   ]
  },
  {
   "cell_type": "markdown",
   "id": "838c1238-32ba-4f43-94f7-962d8e350a01",
   "metadata": {},
   "source": [
    "# Experiment 2 - feature importance using learned Mahalanobis distances"
   ]
  },
  {
   "cell_type": "code",
   "execution_count": 13,
   "id": "28d8d5ee-5be9-4a80-a97a-4d7b93673d64",
   "metadata": {},
   "outputs": [],
   "source": [
    "# use as your initial hyperparameters -> first two parameters are noise variance and signal variance,\n",
    "# remaining parameters are length scale; feel free to modify if using pytrees\n",
    "def random_init_sqexp_maha_hyperparams(X_train):\n",
    "    var = jax.random.uniform(grab_prng(), shape=(2,), minval=0.2, maxval=2)\n",
    "    length_scale = jax.random.uniform(grab_prng(), shape=(X_train.shape[1],), minval=1, maxval=10)\n",
    "    return np.concatenate([var, length_scale])\n"
   ]
  },
  {
   "cell_type": "code",
   "execution_count": 14,
   "id": "d460a0ce",
   "metadata": {},
   "outputs": [],
   "source": [
    "# experiment settings\n",
    "n_trials = 20\n",
    "T = 200\n",
    "step_size = 5e-4\n",
    "cov_func = sqexp_mahalanobis_cov_function\n",
    "X_star = X_test\n",
    "hyperparams_inits = []\n",
    "for i in range(n_trials):\n",
    "   hyperparams_inits.append(random_init_sqexp_maha_hyperparams(X_train))\n"
   ]
  },
  {
   "cell_type": "code",
   "execution_count": 15,
   "id": "28f75865",
   "metadata": {},
   "outputs": [
    {
     "name": "stdout",
     "output_type": "stream",
     "text": [
      "[567.89243329 215.65414922 632.92670722]\n",
      "[593.74975905 217.5088902  630.16971626]\n",
      "[631.9587167  214.28324949 638.75254058]\n",
      "[579.71656603 212.13452129 637.12743329]\n",
      "[559.58732511 216.81365264 623.12234438]\n",
      "[665.6606515  218.12799622 618.01994609]\n",
      "[544.39419656 218.23923485 635.59022173]\n",
      "[540.02665297 215.88691301 631.74126577]\n",
      "[639.46409336 225.09409304 624.36601147]\n",
      "[489.91515816 214.6305671  638.02101682]\n",
      "[522.29669987 212.25303733 633.81943677]\n",
      "[633.04966745 218.8229232  631.42988429]\n",
      "[582.45373208 219.53324771 618.56336712]\n",
      "[637.40621802 217.17466712 623.80507419]\n",
      "[522.35905157 213.12527258 628.18267663]\n",
      "[617.63687302 212.38127046 629.03279666]\n",
      "[493.50981595 215.88102323 636.79957933]\n",
      "[531.07252798 211.83676848 635.6028487 ]\n",
      "[513.68557193 216.47361243 628.54519739]\n",
      "[645.13629061 211.84442549 631.99620321]\n"
     ]
    }
   ],
   "source": [
    "# optimize hyperparameters according lml\n",
    "lml_trials = []\n",
    "\n",
    "for n in range(n_trials):\n",
    "   hyperparams_init = hyperparams_inits[n]\n",
    "   unconstrained_hyperparams_init = inverse_param_transform(hyperparams_init)\n",
    "   (unconstrained_hyperparams, lml) = empirical_bayes(cov_func, X_train, Y_train, unconstrained_hyperparams_init, step_size, T)\n",
    "   hyperparams = param_transform(unconstrained_hyperparams)\n",
    "   \n",
    "   posterior_predictive = gp_posterior(cov_func, X_train, Y_train, hyperparams_init)\n",
    "   (posterior_mean, posterior_var) = posterior_predictive(X_star)\n",
    "   neg_log_initial = neg_log_predictive_density(Y_test, posterior_mean, posterior_var, hyperparams_init[0])\n",
    "\n",
    "   posterior_predictive = gp_posterior(cov_func, X_train, Y_train, hyperparams)\n",
    "   (posterior_mean, posterior_var) = posterior_predictive(X_star)\n",
    "   neg_log_final = neg_log_predictive_density(Y_test, posterior_mean, posterior_var, hyperparams[0])\n",
    "   print(np.array([neg_log_initial, neg_log_final, lml]))\n",
    "   lml_trials.append(np.array([neg_log_initial, neg_log_final, lml]))\n",
    "# #"
   ]
  },
  {
   "cell_type": "code",
   "execution_count": 16,
   "id": "3f6984be",
   "metadata": {},
   "outputs": [
    {
     "name": "stderr",
     "output_type": "stream",
     "text": [
      "C:\\Users\\Yue\\AppData\\Local\\Temp\\ipykernel_9632\\1312685826.py:7: UserWarning: No artists with labels found to put in legend.  Note that artists whose label start with an underscore are ignored when legend() is called with no argument.\n",
      "  plt.legend()\n"
     ]
    },
    {
     "data": {
      "image/png": "[encoded data removed]",
      "text/plain": [
       "<Figure size 640x480 with 1 Axes>"
      ]
     },
     "metadata": {},
     "output_type": "display_data"
    }
   ],
   "source": [
    "trials_array = np.array(lml_trials)\n",
    "lml_lpd = np.column_stack((trials_array[:, 2], trials_array[:, 1]))\n",
    "scatterplot(lml_lpd)"
   ]
  },
  {
   "cell_type": "code",
   "execution_count": null,
   "id": "0746a29f",
   "metadata": {},
   "outputs": [],
   "source": []
  },
  {
   "cell_type": "code",
   "execution_count": null,
   "id": "cbf7be09",
   "metadata": {},
   "outputs": [],
   "source": [
    "\n"
   ]
  },
  {
   "cell_type": "code",
   "execution_count": 17,
   "id": "75db0b14",
   "metadata": {},
   "outputs": [
    {
     "name": "stdout",
     "output_type": "stream",
     "text": [
      "[ 567.89243329  228.85383396 -102.32790417]\n",
      "[ 593.74975905  210.97946248 -108.5461049 ]\n",
      "[631.9587167  243.55871702 -91.11108752]\n",
      "[579.71656603 235.25827558 -93.50752166]\n",
      "[ 559.58732511  197.6342836  -128.32457121]\n",
      "[ 665.6606515   183.95588604 -157.78174489]\n",
      "[544.39419656 243.06412898 -92.92782123]\n",
      "[ 540.02665297  205.74038386 -110.97775141]\n",
      "[ 639.46409336  224.92168407 -118.61173251]\n",
      "[489.91515816 239.22688534 -93.21776769]\n",
      "[ 522.29669987  201.75943676 -108.22030068]\n",
      "[ 633.04966745  233.03595218 -100.78144453]\n",
      "[ 582.45373208  212.66775126 -141.28261843]\n",
      "[ 637.40621802  176.57076382 -164.39965948]\n",
      "[ 522.35905157  207.50453227 -128.37729931]\n",
      "[ 617.63687302  194.59113553 -120.72776636]\n",
      "[493.50981595 248.6656984  -94.00087694]\n",
      "[ 531.07252798  228.34942878 -102.34891233]\n",
      "[ 513.68557193  231.13400269 -106.40971897]\n",
      "[ 645.13629061  181.66622614 -127.14404353]\n"
     ]
    }
   ],
   "source": [
    "# optimize hyperparameters according lml\n",
    "clml_trials = []\n",
    "\n",
    "for n in range(n_trials):\n",
    "   hyperparams_init = hyperparams_inits[n]\n",
    "   unconstrained_hyperparams_init = inverse_param_transform(hyperparams_init)\n",
    "   (unconstrained_hyperparams, clml) = clml_opt(cov_func, X_con, Y_con, unconstrained_hyperparams_init, step_size, T)\n",
    "   hyperparams = param_transform(unconstrained_hyperparams)\n",
    "   \n",
    "   posterior_predictive = gp_posterior(cov_func, X_train, Y_train, hyperparams_init)\n",
    "   (posterior_mean, posterior_var) = posterior_predictive(X_star)\n",
    "   neg_log_initial = neg_log_predictive_density(Y_test, posterior_mean, posterior_var, hyperparams_init[0])\n",
    "\n",
    "   posterior_predictive = gp_posterior(cov_func, X_train, Y_train, hyperparams)\n",
    "   (posterior_mean, posterior_var) = posterior_predictive(X_star)\n",
    "   neg_log_final = neg_log_predictive_density(Y_test, posterior_mean, posterior_var, hyperparams[0])\n",
    "   print(np.array([neg_log_initial, neg_log_final, clml]))\n",
    "   clml_trials.append(np.array([neg_log_initial, neg_log_final, clml]))"
   ]
  },
  {
   "cell_type": "code",
   "execution_count": 18,
   "id": "3030abb3",
   "metadata": {},
   "outputs": [
    {
     "name": "stderr",
     "output_type": "stream",
     "text": [
      "C:\\Users\\Yue\\AppData\\Local\\Temp\\ipykernel_9632\\1312685826.py:7: UserWarning: No artists with labels found to put in legend.  Note that artists whose label start with an underscore are ignored when legend() is called with no argument.\n",
      "  plt.legend()\n"
     ]
    },
    {
     "data": {
      "image/png": "[encoded data removed]",
      "text/plain": [
       "<Figure size 640x480 with 1 Axes>"
      ]
     },
     "metadata": {},
     "output_type": "display_data"
    }
   ],
   "source": [
    "trials_array = np.array(clml_trials)\n",
    "clml_lpd = np.column_stack((trials_array[:, 2], trials_array[:, 1]))\n",
    "scatterplot(clml_lpd)"
   ]
  },
  {
   "cell_type": "code",
   "execution_count": 249,
   "id": "2d43ec6c",
   "metadata": {},
   "outputs": [
    {
     "name": "stdout",
     "output_type": "stream",
     "text": [
      "[-135.9522107  -133.7928272  -132.70732402 -128.74401939 -121.31757044\n",
      " -120.19724961 -114.741562  ]\n"
     ]
    }
   ],
   "source": [
    "import importlib\n",
    "import gp\n",
    "importlib.reload(gp)\n",
    "from gp import *\n",
    "import matplotlib.pyplot as plt\n",
    "plt.style.use('ggplot')\n",
    "\n",
    "clml_function = conditional_log_marginal_likelihood(cov_func, X_con, Y_con)\n",
    "aaa=clml_function(unconstrained_hyperparams)\n",
    "\n",
    "clmls_function = conditional_log_marginal_likelihood_sequence(cov_func, X_seq, Y_seq)\n",
    "clml_vals=clmls_function(unconstrained_hyperparams)\n"
   ]
  },
  {
   "cell_type": "code",
   "execution_count": 251,
   "id": "397cf057",
   "metadata": {},
   "outputs": [],
   "source": [
    "clml_vals=np.array([-135.9522107,  -133.7928272 , -132.70732402, -128.74401939, -121.31757044, -120.19724961, -114.741562  ])\n"
   ]
  },
  {
   "cell_type": "code",
   "execution_count": null,
   "id": "6d49cb88",
   "metadata": {},
   "outputs": [
    {
     "data": {
      "text/plain": [
       "Array(-116.60222087, dtype=float64)"
      ]
     },
     "execution_count": 253,
     "metadata": {},
     "output_type": "execute_result"
    }
   ],
   "source": []
  },
  {
   "cell_type": "code",
   "execution_count": 259,
   "id": "9bbb7835",
   "metadata": {},
   "outputs": [
    {
     "name": "stdout",
     "output_type": "stream",
     "text": [
      "-119.23308709219984 2.9370425452409226 1.588855982992847 2.0214845746391497\n"
     ]
    },
    {
     "data": {
      "text/plain": [
       "<matplotlib.legend.Legend at 0x1a9a6d09f90>"
      ]
     },
     "execution_count": 259,
     "metadata": {},
     "output_type": "execute_result"
    },
    {
     "data": {
      "image/png": "[encoded data removed]",
      "text/plain": [
       "<Figure size 640x480 with 1 Axes>"
      ]
     },
     "metadata": {},
     "output_type": "display_data"
    }
   ],
   "source": [
    "import importlib\n",
    "import gp\n",
    "importlib.reload(gp)\n",
    "from gp import *\n",
    "import matplotlib.pyplot as plt\n",
    "plt.style.use('ggplot')\n",
    "\n",
    "a,b,c,d=opt_clmls(clml_vals, T=1000, step_size=1e-4)\n",
    "print(a,b,c,d)\n",
    "x_data = np.arange(len(clml_vals))\n",
    "y_data = np.array(clml_vals)\n",
    "x_fit = np.linspace(min(x_data), max(x_data), 100)  # Smooth x range for the fitted curve\n",
    "y_fit = clmls_model(x_fit, (a,b,c,d))  # Model predictions\n",
    "\n",
    "# Plot the data\n",
    "plt.scatter(x_data, y_data, color='blue', label='Data', zorder=5)\n",
    "\n",
    "# Plot the fitted model\n",
    "plt.plot(x_fit, y_fit, color='red', label='Fitted Model', zorder=4)\n",
    "\n",
    "# Add labels, legend, and title\n",
    "plt.xlabel('x')\n",
    "plt.ylabel('y')\n",
    "plt.title('Data and Fitted Model')\n",
    "plt.legend()\n"
   ]
  },
  {
   "cell_type": "code",
   "execution_count": null,
   "id": "d26c38ae",
   "metadata": {},
   "outputs": [
    {
     "name": "stdout",
     "output_type": "stream",
     "text": [
      "nan nan nan nan\n"
     ]
    }
   ],
   "source": []
  },
  {
   "cell_type": "code",
   "execution_count": 261,
   "id": "fc6f545d",
   "metadata": {},
   "outputs": [
    {
     "name": "stdout",
     "output_type": "stream",
     "text": [
      "0\n",
      "Traced<ConcreteArray([-180.80491336 -175.27221405 -171.9342892  -168.48932796 -164.94385552\n",
      " -163.2418207  -160.7122683 ], dtype=float64)>with<JVPTrace(level=2/0)> with\n",
      "  primal = Array([-180.80491336, -175.27221405, -171.9342892 , -168.48932796,\n",
      "       -164.94385552, -163.2418207 , -160.7122683 ], dtype=float64)\n",
      "  tangent = Traced<ShapedArray(float64[7])>with<JaxprTrace(level=1/0)> with\n",
      "    pval = (ShapedArray(float64[7]), None)\n",
      "    recipe = JaxprEqnRecipe(eqn_id=<object object at 0x000001A9B036D1F0>, in_tracers=(Traced<ShapedArray(float64[7]):JaxprTrace(level=1/0)>,), out_tracer_refs=[<weakref at 0x000001A9B05CDDA0; to 'JaxprTracer' at 0x000001A9B05CE8E0>], out_avals=[ShapedArray(float64[7])], primitive=convert_element_type, params={'new_dtype': dtype('float64'), 'weak_type': False, 'sharding': None}, effects=frozenset(), source_info=<jax._src.source_info_util.SourceInfo object at 0x000001A9B05D6740>, ctx=JaxprEqnContext(compute_type=None, threefry_partitionable=False, xla_metadata={}))\n",
      "1\n",
      "Traced<ConcreteArray([-180.19575815 -174.66050712 -171.31937884 -167.84770647 -164.2781426\n",
      " -162.56806783 -160.01535372], dtype=float64)>with<JVPTrace(level=2/0)> with\n",
      "  primal = Array([-180.19575815, -174.66050712, -171.31937884, -167.84770647,\n",
      "       -164.2781426 , -162.56806783, -160.01535372], dtype=float64)\n",
      "  tangent = Traced<ShapedArray(float64[7])>with<JaxprTrace(level=1/0)> with\n",
      "    pval = (ShapedArray(float64[7]), None)\n",
      "    recipe = JaxprEqnRecipe(eqn_id=<object object at 0x000001A9EE2B5B50>, in_tracers=(Traced<ShapedArray(float64[7]):JaxprTrace(level=1/0)>,), out_tracer_refs=[<weakref at 0x000001A9B062A430; to 'JaxprTracer' at 0x000001A9A438FA10>], out_avals=[ShapedArray(float64[7])], primitive=convert_element_type, params={'new_dtype': dtype('float64'), 'weak_type': False, 'sharding': None}, effects=frozenset(), source_info=<jax._src.source_info_util.SourceInfo object at 0x000001A9F0B621A0>, ctx=JaxprEqnContext(compute_type=None, threefry_partitionable=False, xla_metadata={}))\n"
     ]
    },
    {
     "ename": "KeyboardInterrupt",
     "evalue": "",
     "output_type": "error",
     "traceback": [
      "\u001b[1;31m---------------------------------------------------------------------------\u001b[0m",
      "\u001b[1;31mKeyboardInterrupt\u001b[0m                         Traceback (most recent call last)",
      "Cell \u001b[1;32mIn[261], line 16\u001b[0m\n\u001b[0;32m     14\u001b[0m hyperparams_init \u001b[38;5;241m=\u001b[39m hyperparams_inits[n]\n\u001b[0;32m     15\u001b[0m unconstrained_hyperparams_init \u001b[38;5;241m=\u001b[39m inverse_param_transform(hyperparams_init)\n\u001b[1;32m---> 16\u001b[0m (unconstrained_hyperparams, clmls) \u001b[38;5;241m=\u001b[39m \u001b[43mclmls_opt\u001b[49m\u001b[43m(\u001b[49m\u001b[43mcov_func\u001b[49m\u001b[43m,\u001b[49m\u001b[43m \u001b[49m\u001b[43mX_seq\u001b[49m\u001b[43m,\u001b[49m\u001b[43m \u001b[49m\u001b[43mY_seq\u001b[49m\u001b[43m,\u001b[49m\u001b[43m \u001b[49m\u001b[43munconstrained_hyperparams_init\u001b[49m\u001b[43m,\u001b[49m\u001b[43m \u001b[49m\u001b[43mstep_size\u001b[49m\u001b[43m,\u001b[49m\u001b[43m \u001b[49m\u001b[43mT\u001b[49m\u001b[43m)\u001b[49m\n\u001b[0;32m     17\u001b[0m hyperparams \u001b[38;5;241m=\u001b[39m param_transform(unconstrained_hyperparams)\n\u001b[0;32m     19\u001b[0m posterior_predictive \u001b[38;5;241m=\u001b[39m gp_posterior(cov_func, X_train, Y_train, hyperparams_init)\n",
      "File \u001b[1;32mc:\\Users\\Yue\\userDoc\\7 code\\Python\\advml\\conditional-marginal-likelihood-sequence\\gp.py:271\u001b[0m, in \u001b[0;36mclmls_opt\u001b[1;34m(cov_func, X_seq, Y_seq, unconstrained_hyperparams_init, step_size, T)\u001b[0m\n\u001b[0;32m    269\u001b[0m \u001b[38;5;28;01mfor\u001b[39;00m i \u001b[38;5;129;01min\u001b[39;00m \u001b[38;5;28mrange\u001b[39m(T):\n\u001b[0;32m    270\u001b[0m     \u001b[38;5;28mprint\u001b[39m(i)\n\u001b[1;32m--> 271\u001b[0m     val, grad \u001b[38;5;241m=\u001b[39m \u001b[43mval_grad_function\u001b[49m\u001b[43m(\u001b[49m\u001b[43munconstrained_hyperparams\u001b[49m\u001b[43m)\u001b[49m\n\u001b[0;32m    272\u001b[0m     unconstrained_hyperparams \u001b[38;5;241m+\u001b[39m\u001b[38;5;241m=\u001b[39m grad \u001b[38;5;241m*\u001b[39m step_size\n\u001b[0;32m    273\u001b[0m \u001b[38;5;66;03m#\u001b[39;00m\n",
      "    \u001b[1;31m[... skipping hidden 1 frame]\u001b[0m\n",
      "File \u001b[1;32mc:\\Users\\Yue\\userDoc\\7 code\\Python\\.conda\\lib\\site-packages\\jax\\_src\\api.py:462\u001b[0m, in \u001b[0;36mvalue_and_grad.<locals>.value_and_grad_f\u001b[1;34m(*args, **kwargs)\u001b[0m\n\u001b[0;32m    460\u001b[0m   _check_input_dtype_grad(holomorphic, allow_int, leaf)\n\u001b[0;32m    461\u001b[0m \u001b[38;5;28;01mif\u001b[39;00m \u001b[38;5;129;01mnot\u001b[39;00m has_aux:\n\u001b[1;32m--> 462\u001b[0m   ans, vjp_py \u001b[38;5;241m=\u001b[39m \u001b[43m_vjp\u001b[49m\u001b[43m(\u001b[49m\u001b[43mf_partial\u001b[49m\u001b[43m,\u001b[49m\u001b[43m \u001b[49m\u001b[38;5;241;43m*\u001b[39;49m\u001b[43mdyn_args\u001b[49m\u001b[43m)\u001b[49m\n\u001b[0;32m    463\u001b[0m \u001b[38;5;28;01melse\u001b[39;00m:\n\u001b[0;32m    464\u001b[0m   ans, vjp_py, aux \u001b[38;5;241m=\u001b[39m _vjp(\n\u001b[0;32m    465\u001b[0m       f_partial, \u001b[38;5;241m*\u001b[39mdyn_args, has_aux\u001b[38;5;241m=\u001b[39m\u001b[38;5;28;01mTrue\u001b[39;00m)\n",
      "File \u001b[1;32mc:\\Users\\Yue\\userDoc\\7 code\\Python\\.conda\\lib\\site-packages\\jax\\_src\\api.py:1962\u001b[0m, in \u001b[0;36m_vjp\u001b[1;34m(fun, has_aux, *primals)\u001b[0m\n\u001b[0;32m   1960\u001b[0m \u001b[38;5;28;01mif\u001b[39;00m \u001b[38;5;129;01mnot\u001b[39;00m has_aux:\n\u001b[0;32m   1961\u001b[0m   flat_fun, out_tree \u001b[38;5;241m=\u001b[39m flatten_fun_nokwargs(fun, in_tree)\n\u001b[1;32m-> 1962\u001b[0m   out_primals, vjp \u001b[38;5;241m=\u001b[39m \u001b[43mad\u001b[49m\u001b[38;5;241;43m.\u001b[39;49m\u001b[43mvjp\u001b[49m\u001b[43m(\u001b[49m\u001b[43mflat_fun\u001b[49m\u001b[43m,\u001b[49m\u001b[43m \u001b[49m\u001b[43mprimals_flat\u001b[49m\u001b[43m)\u001b[49m\n\u001b[0;32m   1963\u001b[0m   out_tree \u001b[38;5;241m=\u001b[39m out_tree()\n\u001b[0;32m   1964\u001b[0m \u001b[38;5;28;01melse\u001b[39;00m:\n",
      "File \u001b[1;32mc:\\Users\\Yue\\userDoc\\7 code\\Python\\.conda\\lib\\site-packages\\jax\\_src\\interpreters\\ad.py:142\u001b[0m, in \u001b[0;36mvjp\u001b[1;34m(traceable, primals, has_aux)\u001b[0m\n\u001b[0;32m    140\u001b[0m \u001b[38;5;28;01mdef\u001b[39;00m \u001b[38;5;21mvjp\u001b[39m(traceable, primals, has_aux\u001b[38;5;241m=\u001b[39m\u001b[38;5;28;01mFalse\u001b[39;00m):\n\u001b[0;32m    141\u001b[0m   \u001b[38;5;28;01mif\u001b[39;00m \u001b[38;5;129;01mnot\u001b[39;00m has_aux:\n\u001b[1;32m--> 142\u001b[0m     out_primals, pvals, jaxpr, consts \u001b[38;5;241m=\u001b[39m \u001b[43mlinearize\u001b[49m\u001b[43m(\u001b[49m\u001b[43mtraceable\u001b[49m\u001b[43m,\u001b[49m\u001b[43m \u001b[49m\u001b[38;5;241;43m*\u001b[39;49m\u001b[43mprimals\u001b[49m\u001b[43m)\u001b[49m\n\u001b[0;32m    143\u001b[0m   \u001b[38;5;28;01melse\u001b[39;00m:\n\u001b[0;32m    144\u001b[0m     out_primals, pvals, jaxpr, consts, aux \u001b[38;5;241m=\u001b[39m linearize(traceable, \u001b[38;5;241m*\u001b[39mprimals, has_aux\u001b[38;5;241m=\u001b[39m\u001b[38;5;28;01mTrue\u001b[39;00m)\n",
      "File \u001b[1;32mc:\\Users\\Yue\\userDoc\\7 code\\Python\\.conda\\lib\\site-packages\\jax\\_src\\interpreters\\ad.py:131\u001b[0m, in \u001b[0;36mlinearize\u001b[1;34m(traceable, *primals, **kwargs)\u001b[0m\n\u001b[0;32m    129\u001b[0m _, in_tree \u001b[38;5;241m=\u001b[39m tree_flatten(((primals, primals), {}))\n\u001b[0;32m    130\u001b[0m jvpfun_flat, out_tree \u001b[38;5;241m=\u001b[39m flatten_fun(jvpfun, in_tree)\n\u001b[1;32m--> 131\u001b[0m jaxpr, out_pvals, consts \u001b[38;5;241m=\u001b[39m \u001b[43mpe\u001b[49m\u001b[38;5;241;43m.\u001b[39;49m\u001b[43mtrace_to_jaxpr_nounits\u001b[49m\u001b[43m(\u001b[49m\u001b[43mjvpfun_flat\u001b[49m\u001b[43m,\u001b[49m\u001b[43m \u001b[49m\u001b[43min_pvals\u001b[49m\u001b[43m)\u001b[49m\n\u001b[0;32m    132\u001b[0m out_primals_pvals, out_tangents_pvals \u001b[38;5;241m=\u001b[39m tree_unflatten(out_tree(), out_pvals)\n\u001b[0;32m    133\u001b[0m \u001b[38;5;28;01massert\u001b[39;00m \u001b[38;5;28mall\u001b[39m(out_primal_pval\u001b[38;5;241m.\u001b[39mis_known() \u001b[38;5;28;01mfor\u001b[39;00m out_primal_pval \u001b[38;5;129;01min\u001b[39;00m out_primals_pvals)\n",
      "File \u001b[1;32mc:\\Users\\Yue\\userDoc\\7 code\\Python\\.conda\\lib\\site-packages\\jax\\_src\\profiler.py:333\u001b[0m, in \u001b[0;36mannotate_function.<locals>.wrapper\u001b[1;34m(*args, **kwargs)\u001b[0m\n\u001b[0;32m    330\u001b[0m \u001b[38;5;129m@wraps\u001b[39m(func)\n\u001b[0;32m    331\u001b[0m \u001b[38;5;28;01mdef\u001b[39;00m \u001b[38;5;21mwrapper\u001b[39m(\u001b[38;5;241m*\u001b[39margs, \u001b[38;5;241m*\u001b[39m\u001b[38;5;241m*\u001b[39mkwargs):\n\u001b[0;32m    332\u001b[0m   \u001b[38;5;28;01mwith\u001b[39;00m TraceAnnotation(name, \u001b[38;5;241m*\u001b[39m\u001b[38;5;241m*\u001b[39mdecorator_kwargs):\n\u001b[1;32m--> 333\u001b[0m     \u001b[38;5;28;01mreturn\u001b[39;00m func(\u001b[38;5;241m*\u001b[39margs, \u001b[38;5;241m*\u001b[39m\u001b[38;5;241m*\u001b[39mkwargs)\n\u001b[0;32m    334\u001b[0m   \u001b[38;5;28;01mreturn\u001b[39;00m wrapper\n",
      "File \u001b[1;32mc:\\Users\\Yue\\userDoc\\7 code\\Python\\.conda\\lib\\site-packages\\jax\\_src\\interpreters\\partial_eval.py:681\u001b[0m, in \u001b[0;36mtrace_to_jaxpr_nounits\u001b[1;34m(fun, pvals, instantiate)\u001b[0m\n\u001b[0;32m    679\u001b[0m \u001b[38;5;28;01mwith\u001b[39;00m core\u001b[38;5;241m.\u001b[39mnew_main(JaxprTrace, name_stack\u001b[38;5;241m=\u001b[39mcurrent_name_stack) \u001b[38;5;28;01mas\u001b[39;00m main:\n\u001b[0;32m    680\u001b[0m   fun \u001b[38;5;241m=\u001b[39m trace_to_subjaxpr_nounits(fun, main, instantiate)\n\u001b[1;32m--> 681\u001b[0m   jaxpr, (out_pvals, consts, env) \u001b[38;5;241m=\u001b[39m \u001b[43mfun\u001b[49m\u001b[38;5;241;43m.\u001b[39;49m\u001b[43mcall_wrapped\u001b[49m\u001b[43m(\u001b[49m\u001b[43mpvals\u001b[49m\u001b[43m)\u001b[49m\n\u001b[0;32m    682\u001b[0m   \u001b[38;5;28;01massert\u001b[39;00m \u001b[38;5;129;01mnot\u001b[39;00m env\n\u001b[0;32m    683\u001b[0m   \u001b[38;5;28;01mdel\u001b[39;00m main, fun, env\n",
      "File \u001b[1;32mc:\\Users\\Yue\\userDoc\\7 code\\Python\\.conda\\lib\\site-packages\\jax\\_src\\linear_util.py:193\u001b[0m, in \u001b[0;36mWrappedFun.call_wrapped\u001b[1;34m(self, *args, **kwargs)\u001b[0m\n\u001b[0;32m    190\u001b[0m gen \u001b[38;5;241m=\u001b[39m gen_static_args \u001b[38;5;241m=\u001b[39m out_store \u001b[38;5;241m=\u001b[39m \u001b[38;5;28;01mNone\u001b[39;00m\n\u001b[0;32m    192\u001b[0m \u001b[38;5;28;01mtry\u001b[39;00m:\n\u001b[1;32m--> 193\u001b[0m   ans \u001b[38;5;241m=\u001b[39m \u001b[38;5;28mself\u001b[39m\u001b[38;5;241m.\u001b[39mf(\u001b[38;5;241m*\u001b[39margs, \u001b[38;5;241m*\u001b[39m\u001b[38;5;241m*\u001b[39m\u001b[38;5;28mdict\u001b[39m(\u001b[38;5;28mself\u001b[39m\u001b[38;5;241m.\u001b[39mparams, \u001b[38;5;241m*\u001b[39m\u001b[38;5;241m*\u001b[39mkwargs))\n\u001b[0;32m    194\u001b[0m \u001b[38;5;28;01mexcept\u001b[39;00m:\n\u001b[0;32m    195\u001b[0m   \u001b[38;5;66;03m# Some transformations yield from inside context managers, so we have to\u001b[39;00m\n\u001b[0;32m    196\u001b[0m   \u001b[38;5;66;03m# interrupt them before reraising the exception. Otherwise they will only\u001b[39;00m\n\u001b[0;32m    197\u001b[0m   \u001b[38;5;66;03m# get garbage-collected at some later time, running their cleanup tasks\u001b[39;00m\n\u001b[0;32m    198\u001b[0m   \u001b[38;5;66;03m# only after this exception is handled, which can corrupt the global\u001b[39;00m\n\u001b[0;32m    199\u001b[0m   \u001b[38;5;66;03m# state.\u001b[39;00m\n\u001b[0;32m    200\u001b[0m   \u001b[38;5;28;01mwhile\u001b[39;00m stack:\n",
      "File \u001b[1;32mc:\\Users\\Yue\\userDoc\\7 code\\Python\\advml\\conditional-marginal-likelihood-sequence\\gp.py:258\u001b[0m, in \u001b[0;36mconditional_log_marginal_likelihood_sequence.<locals>.clmls_function\u001b[1;34m(unconstrained_hyperparams)\u001b[0m\n\u001b[0;32m    256\u001b[0m clmls_vals \u001b[38;5;241m=\u001b[39m [f(unconstrained_hyperparams) \u001b[38;5;28;01mfor\u001b[39;00m f \u001b[38;5;129;01min\u001b[39;00m clml_functions]\n\u001b[0;32m    257\u001b[0m \u001b[38;5;28mprint\u001b[39m(np\u001b[38;5;241m.\u001b[39marray(clmls_vals))\n\u001b[1;32m--> 258\u001b[0m \u001b[38;5;28;01mreturn\u001b[39;00m \u001b[43mopt_clmls\u001b[49m\u001b[43m(\u001b[49m\u001b[43mclmls_vals\u001b[49m\u001b[43m)\u001b[49m[\u001b[38;5;241m0\u001b[39m]\n",
      "File \u001b[1;32mc:\\Users\\Yue\\userDoc\\7 code\\Python\\advml\\conditional-marginal-likelihood-sequence\\gp.py:228\u001b[0m, in \u001b[0;36mopt_clmls\u001b[1;34m(clml_vals, T, step_size)\u001b[0m\n\u001b[0;32m    226\u001b[0m para \u001b[38;5;241m=\u001b[39m para_init\n\u001b[0;32m    227\u001b[0m \u001b[38;5;28;01mfor\u001b[39;00m i \u001b[38;5;129;01min\u001b[39;00m \u001b[38;5;28mrange\u001b[39m(T):\n\u001b[1;32m--> 228\u001b[0m     val, grad \u001b[38;5;241m=\u001b[39m \u001b[43mval_grad_function\u001b[49m\u001b[43m(\u001b[49m\u001b[43mpara\u001b[49m\u001b[43m)\u001b[49m\n\u001b[0;32m    229\u001b[0m     para \u001b[38;5;241m-\u001b[39m\u001b[38;5;241m=\u001b[39m grad \u001b[38;5;241m*\u001b[39m step_size\n\u001b[0;32m    230\u001b[0m \u001b[38;5;66;03m#\u001b[39;00m\n",
      "    \u001b[1;31m[... skipping hidden 1 frame]\u001b[0m\n",
      "File \u001b[1;32mc:\\Users\\Yue\\userDoc\\7 code\\Python\\.conda\\lib\\site-packages\\jax\\_src\\api.py:468\u001b[0m, in \u001b[0;36mvalue_and_grad.<locals>.value_and_grad_f\u001b[1;34m(*args, **kwargs)\u001b[0m\n\u001b[0;32m    466\u001b[0m _check_scalar(ans)\n\u001b[0;32m    467\u001b[0m tree_map(partial(_check_output_dtype_grad, holomorphic), ans)\n\u001b[1;32m--> 468\u001b[0m g \u001b[38;5;241m=\u001b[39m vjp_py(\u001b[43mlax_internal\u001b[49m\u001b[38;5;241;43m.\u001b[39;49m\u001b[43m_one\u001b[49m\u001b[43m(\u001b[49m\u001b[43mans\u001b[49m\u001b[43m)\u001b[49m)\n\u001b[0;32m    469\u001b[0m g \u001b[38;5;241m=\u001b[39m g[\u001b[38;5;241m0\u001b[39m] \u001b[38;5;28;01mif\u001b[39;00m \u001b[38;5;28misinstance\u001b[39m(argnums, \u001b[38;5;28mint\u001b[39m) \u001b[38;5;28;01melse\u001b[39;00m g\n\u001b[0;32m    470\u001b[0m \u001b[38;5;28;01mif\u001b[39;00m \u001b[38;5;129;01mnot\u001b[39;00m has_aux:\n",
      "File \u001b[1;32mc:\\Users\\Yue\\userDoc\\7 code\\Python\\.conda\\lib\\site-packages\\jax\\_src\\lax\\lax.py:1840\u001b[0m, in \u001b[0;36mfull_like\u001b[1;34m(x, fill_value, dtype, shape, sharding)\u001b[0m\n\u001b[0;32m   1837\u001b[0m \u001b[38;5;28;01mif\u001b[39;00m use_x_sharding:\n\u001b[0;32m   1838\u001b[0m   \u001b[38;5;66;03m# TODO(yashkatariya): Use shard_alike in tracing_mode once it is supported.\u001b[39;00m\n\u001b[0;32m   1839\u001b[0m   sharding \u001b[38;5;241m=\u001b[39m x\u001b[38;5;241m.\u001b[39msharding  \u001b[38;5;66;03m# type: ignore\u001b[39;00m\n\u001b[1;32m-> 1840\u001b[0m val \u001b[38;5;241m=\u001b[39m full(fill_shape, \u001b[43m_convert_element_type\u001b[49m\u001b[43m(\u001b[49m\u001b[43mfill_value\u001b[49m\u001b[43m,\u001b[49m\u001b[43m \u001b[49m\u001b[43mdtype\u001b[49m\u001b[43m,\u001b[49m\u001b[43m \u001b[49m\u001b[43mweak_type\u001b[49m\u001b[43m)\u001b[49m,\n\u001b[0;32m   1841\u001b[0m            sharding\u001b[38;5;241m=\u001b[39msharding)\n\u001b[0;32m   1842\u001b[0m \u001b[38;5;28;01mreturn\u001b[39;00m val\n",
      "File \u001b[1;32mc:\\Users\\Yue\\userDoc\\7 code\\Python\\.conda\\lib\\site-packages\\jax\\_src\\lax\\lax.py:587\u001b[0m, in \u001b[0;36m_convert_element_type\u001b[1;34m(operand, new_dtype, weak_type, sharding)\u001b[0m\n\u001b[0;32m    585\u001b[0m   \u001b[38;5;28;01mreturn\u001b[39;00m operand\n\u001b[0;32m    586\u001b[0m \u001b[38;5;28;01melse\u001b[39;00m:\n\u001b[1;32m--> 587\u001b[0m   \u001b[38;5;28;01mreturn\u001b[39;00m \u001b[43mconvert_element_type_p\u001b[49m\u001b[38;5;241;43m.\u001b[39;49m\u001b[43mbind\u001b[49m\u001b[43m(\u001b[49m\n\u001b[0;32m    588\u001b[0m \u001b[43m      \u001b[49m\u001b[43moperand\u001b[49m\u001b[43m,\u001b[49m\u001b[43m \u001b[49m\u001b[43mnew_dtype\u001b[49m\u001b[38;5;241;43m=\u001b[39;49m\u001b[43mnew_dtype\u001b[49m\u001b[43m,\u001b[49m\u001b[43m \u001b[49m\u001b[43mweak_type\u001b[49m\u001b[38;5;241;43m=\u001b[39;49m\u001b[38;5;28;43mbool\u001b[39;49m\u001b[43m(\u001b[49m\u001b[43mweak_type\u001b[49m\u001b[43m)\u001b[49m\u001b[43m,\u001b[49m\n\u001b[0;32m    589\u001b[0m \u001b[43m      \u001b[49m\u001b[43msharding\u001b[49m\u001b[38;5;241;43m=\u001b[39;49m\u001b[43msharding\u001b[49m\u001b[43m)\u001b[49m\n",
      "File \u001b[1;32mc:\\Users\\Yue\\userDoc\\7 code\\Python\\.conda\\lib\\site-packages\\jax\\_src\\lax\\lax.py:2981\u001b[0m, in \u001b[0;36m_convert_element_type_bind\u001b[1;34m(operand, new_dtype, weak_type, sharding)\u001b[0m\n\u001b[0;32m   2980\u001b[0m \u001b[38;5;28;01mdef\u001b[39;00m \u001b[38;5;21m_convert_element_type_bind\u001b[39m(operand, \u001b[38;5;241m*\u001b[39m, new_dtype, weak_type, sharding):\n\u001b[1;32m-> 2981\u001b[0m   operand \u001b[38;5;241m=\u001b[39m \u001b[43mcore\u001b[49m\u001b[38;5;241;43m.\u001b[39;49m\u001b[43mPrimitive\u001b[49m\u001b[38;5;241;43m.\u001b[39;49m\u001b[43mbind\u001b[49m\u001b[43m(\u001b[49m\u001b[43mconvert_element_type_p\u001b[49m\u001b[43m,\u001b[49m\u001b[43m \u001b[49m\u001b[43moperand\u001b[49m\u001b[43m,\u001b[49m\n\u001b[0;32m   2982\u001b[0m \u001b[43m                                \u001b[49m\u001b[43mnew_dtype\u001b[49m\u001b[38;5;241;43m=\u001b[39;49m\u001b[43mnew_dtype\u001b[49m\u001b[43m,\u001b[49m\u001b[43m \u001b[49m\u001b[43mweak_type\u001b[49m\u001b[38;5;241;43m=\u001b[39;49m\u001b[43mweak_type\u001b[49m\u001b[43m,\u001b[49m\n\u001b[0;32m   2983\u001b[0m \u001b[43m                                \u001b[49m\u001b[43msharding\u001b[49m\u001b[38;5;241;43m=\u001b[39;49m\u001b[43msharding\u001b[49m\u001b[43m)\u001b[49m\n\u001b[0;32m   2984\u001b[0m   \u001b[38;5;28;01mif\u001b[39;00m sharding \u001b[38;5;129;01mis\u001b[39;00m \u001b[38;5;129;01mnot\u001b[39;00m \u001b[38;5;28;01mNone\u001b[39;00m:\n\u001b[0;32m   2985\u001b[0m     operand \u001b[38;5;241m=\u001b[39m pjit\u001b[38;5;241m.\u001b[39mwith_sharding_constraint(operand, sharding)\n",
      "File \u001b[1;32mc:\\Users\\Yue\\userDoc\\7 code\\Python\\.conda\\lib\\site-packages\\jax\\_src\\core.py:438\u001b[0m, in \u001b[0;36mPrimitive.bind\u001b[1;34m(self, *args, **params)\u001b[0m\n\u001b[0;32m    435\u001b[0m \u001b[38;5;28;01mdef\u001b[39;00m \u001b[38;5;21mbind\u001b[39m(\u001b[38;5;28mself\u001b[39m, \u001b[38;5;241m*\u001b[39margs, \u001b[38;5;241m*\u001b[39m\u001b[38;5;241m*\u001b[39mparams):\n\u001b[0;32m    436\u001b[0m   \u001b[38;5;28;01massert\u001b[39;00m (\u001b[38;5;129;01mnot\u001b[39;00m config\u001b[38;5;241m.\u001b[39menable_checks\u001b[38;5;241m.\u001b[39mvalue \u001b[38;5;129;01mor\u001b[39;00m\n\u001b[0;32m    437\u001b[0m           \u001b[38;5;28mall\u001b[39m(\u001b[38;5;28misinstance\u001b[39m(arg, Tracer) \u001b[38;5;129;01mor\u001b[39;00m valid_jaxtype(arg) \u001b[38;5;28;01mfor\u001b[39;00m arg \u001b[38;5;129;01min\u001b[39;00m args)), args\n\u001b[1;32m--> 438\u001b[0m   \u001b[38;5;28;01mreturn\u001b[39;00m \u001b[38;5;28;43mself\u001b[39;49m\u001b[38;5;241;43m.\u001b[39;49m\u001b[43mbind_with_trace\u001b[49m\u001b[43m(\u001b[49m\u001b[43mfind_top_trace\u001b[49m\u001b[43m(\u001b[49m\u001b[43margs\u001b[49m\u001b[43m)\u001b[49m\u001b[43m,\u001b[49m\u001b[43m \u001b[49m\u001b[43margs\u001b[49m\u001b[43m,\u001b[49m\u001b[43m \u001b[49m\u001b[43mparams\u001b[49m\u001b[43m)\u001b[49m\n",
      "File \u001b[1;32mc:\\Users\\Yue\\userDoc\\7 code\\Python\\.conda\\lib\\site-packages\\jax\\_src\\core.py:442\u001b[0m, in \u001b[0;36mPrimitive.bind_with_trace\u001b[1;34m(self, trace, args, params)\u001b[0m\n\u001b[0;32m    440\u001b[0m \u001b[38;5;28;01mdef\u001b[39;00m \u001b[38;5;21mbind_with_trace\u001b[39m(\u001b[38;5;28mself\u001b[39m, trace, args, params):\n\u001b[0;32m    441\u001b[0m   \u001b[38;5;28;01mwith\u001b[39;00m pop_level(trace\u001b[38;5;241m.\u001b[39mlevel):\n\u001b[1;32m--> 442\u001b[0m     out \u001b[38;5;241m=\u001b[39m \u001b[43mtrace\u001b[49m\u001b[38;5;241;43m.\u001b[39;49m\u001b[43mprocess_primitive\u001b[49m\u001b[43m(\u001b[49m\u001b[38;5;28;43mself\u001b[39;49m\u001b[43m,\u001b[49m\u001b[43m \u001b[49m\u001b[38;5;28;43mmap\u001b[39;49m\u001b[43m(\u001b[49m\u001b[43mtrace\u001b[49m\u001b[38;5;241;43m.\u001b[39;49m\u001b[43mfull_raise\u001b[49m\u001b[43m,\u001b[49m\u001b[43m \u001b[49m\u001b[43margs\u001b[49m\u001b[43m)\u001b[49m\u001b[43m,\u001b[49m\u001b[43m \u001b[49m\u001b[43mparams\u001b[49m\u001b[43m)\u001b[49m\n\u001b[0;32m    443\u001b[0m   \u001b[38;5;28;01mreturn\u001b[39;00m \u001b[38;5;28mmap\u001b[39m(full_lower, out) \u001b[38;5;28;01mif\u001b[39;00m \u001b[38;5;28mself\u001b[39m\u001b[38;5;241m.\u001b[39mmultiple_results \u001b[38;5;28;01melse\u001b[39;00m full_lower(out)\n",
      "File \u001b[1;32mc:\\Users\\Yue\\userDoc\\7 code\\Python\\.conda\\lib\\site-packages\\jax\\_src\\core.py:955\u001b[0m, in \u001b[0;36mEvalTrace.process_primitive\u001b[1;34m(self, primitive, tracers, params)\u001b[0m\n\u001b[0;32m    953\u001b[0m   \u001b[38;5;28;01mreturn\u001b[39;00m call_impl_with_key_reuse_checks(primitive, primitive\u001b[38;5;241m.\u001b[39mimpl, \u001b[38;5;241m*\u001b[39mtracers, \u001b[38;5;241m*\u001b[39m\u001b[38;5;241m*\u001b[39mparams)\n\u001b[0;32m    954\u001b[0m \u001b[38;5;28;01melse\u001b[39;00m:\n\u001b[1;32m--> 955\u001b[0m   \u001b[38;5;28;01mreturn\u001b[39;00m primitive\u001b[38;5;241m.\u001b[39mimpl(\u001b[38;5;241m*\u001b[39mtracers, \u001b[38;5;241m*\u001b[39m\u001b[38;5;241m*\u001b[39mparams)\n",
      "File \u001b[1;32mc:\\Users\\Yue\\userDoc\\7 code\\Python\\.conda\\lib\\site-packages\\jax\\_src\\dispatch.py:91\u001b[0m, in \u001b[0;36mapply_primitive\u001b[1;34m(prim, *args, **params)\u001b[0m\n\u001b[0;32m     89\u001b[0m prev \u001b[38;5;241m=\u001b[39m lib\u001b[38;5;241m.\u001b[39mjax_jit\u001b[38;5;241m.\u001b[39mswap_thread_local_state_disable_jit(\u001b[38;5;28;01mFalse\u001b[39;00m)\n\u001b[0;32m     90\u001b[0m \u001b[38;5;28;01mtry\u001b[39;00m:\n\u001b[1;32m---> 91\u001b[0m   outs \u001b[38;5;241m=\u001b[39m \u001b[43mfun\u001b[49m\u001b[43m(\u001b[49m\u001b[38;5;241;43m*\u001b[39;49m\u001b[43margs\u001b[49m\u001b[43m)\u001b[49m\n\u001b[0;32m     92\u001b[0m \u001b[38;5;28;01mfinally\u001b[39;00m:\n\u001b[0;32m     93\u001b[0m   lib\u001b[38;5;241m.\u001b[39mjax_jit\u001b[38;5;241m.\u001b[39mswap_thread_local_state_disable_jit(prev)\n",
      "\u001b[1;31mKeyboardInterrupt\u001b[0m: "
     ]
    }
   ],
   "source": [
    "\n",
    "import importlib\n",
    "import gp\n",
    "importlib.reload(gp)\n",
    "from gp import *\n",
    "import matplotlib.pyplot as plt\n",
    "plt.style.use('ggplot')\n",
    "\n",
    "\n",
    "\n",
    "# optimize hyperparameters according lml\n",
    "clmls_trials = []\n",
    "\n",
    "for n in range(n_trials):\n",
    "   hyperparams_init = hyperparams_inits[n]\n",
    "   unconstrained_hyperparams_init = inverse_param_transform(hyperparams_init)\n",
    "   (unconstrained_hyperparams, clmls) = clmls_opt(cov_func, X_seq, Y_seq, unconstrained_hyperparams_init, step_size, T)\n",
    "   hyperparams = param_transform(unconstrained_hyperparams)\n",
    "   \n",
    "   posterior_predictive = gp_posterior(cov_func, X_train, Y_train, hyperparams_init)\n",
    "   (posterior_mean, posterior_var) = posterior_predictive(X_star)\n",
    "   neg_log_initial = neg_log_predictive_density(Y_test, posterior_mean, posterior_var, hyperparams_init[0])\n",
    "\n",
    "   posterior_predictive = gp_posterior(cov_func, X_train, Y_train, hyperparams)\n",
    "   (posterior_mean, posterior_var) = posterior_predictive(X_star)\n",
    "   neg_log_final = neg_log_predictive_density(Y_test, posterior_mean, posterior_var, hyperparams[0])\n",
    "   print(np.array([neg_log_initial, neg_log_final, clmls]))\n",
    "   clmls_trials.append(np.array([neg_log_initial, neg_log_final, clmls]))"
   ]
  },
  {
   "cell_type": "code",
   "execution_count": null,
   "id": "16982f05",
   "metadata": {},
   "outputs": [],
   "source": [
    "trials_array = np.array(clmls_trials)\n",
    "clmls_lpd = np.column_stack((trials_array[:, 2], trials_array[:, 1]))\n",
    "scatterplot(clmls_lpd)"
   ]
  },
  {
   "cell_type": "code",
   "execution_count": null,
   "id": "1c90fde3",
   "metadata": {},
   "outputs": [],
   "source": []
  },
  {
   "cell_type": "code",
   "execution_count": 149,
   "id": "af1a9a29",
   "metadata": {},
   "outputs": [
    {
     "name": "stdout",
     "output_type": "stream",
     "text": [
      "[-139.76797179    3.7072365     0.36232671    0.26977747]\n"
     ]
    }
   ],
   "source": [
    "clml_function = conditional_log_marginal_likelihood_sequence(cov_func, X_seq, Y_seq)\n",
    "clml_vals=clml_function(hyperparams)"
   ]
  },
  {
   "cell_type": "code",
   "execution_count": 111,
   "id": "5234ed26",
   "metadata": {},
   "outputs": [
    {
     "data": {
      "text/plain": [
       "[Array(-144.88906846, dtype=float64),\n",
       " Array(-142.56430816, dtype=float64),\n",
       " Array(-142.10506235, dtype=float64),\n",
       " Array(-141.66981794, dtype=float64),\n",
       " Array(-141.33357905, dtype=float64),\n",
       " Array(-140.54167117, dtype=float64),\n",
       " Array(-139.98196877, dtype=float64)]"
      ]
     },
     "execution_count": 111,
     "metadata": {},
     "output_type": "execute_result"
    }
   ],
   "source": [
    "clml_vals"
   ]
  },
  {
   "cell_type": "code",
   "execution_count": 70,
   "id": "d8b81172",
   "metadata": {},
   "outputs": [
    {
     "data": {
      "image/png": "[encoded data removed]",
      "text/plain": [
       "<Figure size 640x480 with 1 Axes>"
      ]
     },
     "metadata": {},
     "output_type": "display_data"
    }
   ],
   "source": [
    "plt.plot(seq, marker='o', linestyle='-', color='b')\n",
    "\n",
    "# Add labels and title\n",
    "plt.xlabel('Index')\n",
    "plt.ylabel('Value')\n",
    "plt.title('Line Plot of a List')\n",
    "\n",
    "# Show the plot\n",
    "plt.show()"
   ]
  }
 ],
 "metadata": {
  "kernelspec": {
   "display_name": "Python 3",
   "language": "python",
   "name": "python3"
  },
  "language_info": {
   "codemirror_mode": {
    "name": "ipython",
    "version": 3
   },
   "file_extension": ".py",
   "mimetype": "text/x-python",
   "name": "python",
   "nbconvert_exporter": "python",
   "pygments_lexer": "ipython3",
   "version": "3.10.15"
  }
 },
 "nbformat": 4,
 "nbformat_minor": 5
}
